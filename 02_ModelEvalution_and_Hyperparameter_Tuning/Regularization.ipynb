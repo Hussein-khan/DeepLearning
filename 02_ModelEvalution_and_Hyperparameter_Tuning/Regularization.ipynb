{
  "nbformat": 4,
  "nbformat_minor": 0,
  "metadata": {
    "colab": {
      "name": "Regularization.ipynb",
      "provenance": [],
      "collapsed_sections": []
    },
    "kernelspec": {
      "name": "python3",
      "display_name": "Python 3"
    },
    "language_info": {
      "name": "python"
    }
  },
  "cells": [
    {
      "cell_type": "code",
      "execution_count": 21,
      "metadata": {
        "id": "4wBo5VwxqFBR"
      },
      "outputs": [],
      "source": [
        "#importing libraries \n",
        "import numpy as np\n",
        "import pandas as pd "
      ]
    },
    {
      "cell_type": "code",
      "source": [
        ""
      ],
      "metadata": {
        "id": "eiQ4_5iMutQ9"
      },
      "execution_count": 21,
      "outputs": []
    },
    {
      "cell_type": "code",
      "source": [
        "df = pd.read_csv('/content/BostonHousing.csv')"
      ],
      "metadata": {
        "id": "yQbDewyTpje-"
      },
      "execution_count": 22,
      "outputs": []
    },
    {
      "cell_type": "code",
      "source": [
        "BHNames = ['crim','zn','indus','chas','nox','rm','age','dis','rad','tax','ptratio','b','lstat','medv']"
      ],
      "metadata": {
        "id": "vxHCv_dip4cm"
      },
      "execution_count": 23,
      "outputs": []
    },
    {
      "cell_type": "code",
      "source": [
        "#spliting data into training and testing\n",
        "from sklearn.model_selection import train_test_split\n",
        "\n",
        "x = df.drop('medv',axis=1)\n",
        "y = df['medv']\n",
        "\n",
        "x_train,x_test,y_train,y_test = train_test_split(x,y,test_size=0.2)"
      ],
      "metadata": {
        "id": "14c5Al1tpzYn"
      },
      "execution_count": 6,
      "outputs": []
    },
    {
      "cell_type": "code",
      "source": [
        "print(x.shape)\n",
        "print(y.shape)"
      ],
      "metadata": {
        "colab": {
          "base_uri": "https://localhost:8080/"
        },
        "id": "c9jjj2aXqVqP",
        "outputId": "6beccfe8-c53c-4dd4-91f5-b274b9025f14"
      },
      "execution_count": 7,
      "outputs": [
        {
          "output_type": "stream",
          "name": "stdout",
          "text": [
            "(506, 13)\n",
            "(506,)\n"
          ]
        }
      ]
    },
    {
      "cell_type": "code",
      "source": [
        "from sklearn.linear_model import Lasso\n",
        "import matplotlib.pyplot as plt\n",
        "\n",
        "names = df.drop('medv',axis=1).columns\n",
        "print(names)"
      ],
      "metadata": {
        "colab": {
          "base_uri": "https://localhost:8080/"
        },
        "id": "j7PgHazJqMLL",
        "outputId": "5f365735-a4ee-493c-ea0b-b7d063fe8509"
      },
      "execution_count": 10,
      "outputs": [
        {
          "output_type": "stream",
          "name": "stdout",
          "text": [
            "Index(['crim', 'zn', 'indus', 'chas', 'nox', 'rm', 'age', 'dis', 'rad', 'tax',\n",
            "       'ptratio', 'b', 'lstat'],\n",
            "      dtype='object')\n"
          ]
        }
      ]
    },
    {
      "cell_type": "code",
      "source": [
        "lasso = Lasso(alpha=1.2)\n",
        "\n",
        "lasso_coef = lasso.fit(x,y).coef_"
      ],
      "metadata": {
        "id": "c_w4Q4t5q2Ld"
      },
      "execution_count": 14,
      "outputs": []
    },
    {
      "cell_type": "code",
      "source": [
        "plt.plot(range(len(names)),lasso_coef)\n",
        "plt.xticks(range(len(names)),names,rotation=60)\n",
        "plt.show()"
      ],
      "metadata": {
        "colab": {
          "base_uri": "https://localhost:8080/",
          "height": 289
        },
        "id": "sQEYOySGrgBi",
        "outputId": "616235d9-799a-4561-a034-46f0d7d8fcc6"
      },
      "execution_count": 15,
      "outputs": [
        {
          "output_type": "display_data",
          "data": {
            "image/png": "[encoded data removed]",
            "text/plain": [
              "<Figure size 432x288 with 1 Axes>"
            ]
          },
          "metadata": {
            "needs_background": "light"
          }
        }
      ]
    },
    {
      "cell_type": "code",
      "source": [
        "#for ridge\n",
        "from sklearn.preprocessing import StandardScaler\n",
        "sc = StandardScaler()\n",
        "x_std = sc.fit_transform(x)"
      ],
      "metadata": {
        "id": "o66Z1qFHtAik"
      },
      "execution_count": 17,
      "outputs": []
    },
    {
      "cell_type": "code",
      "source": [
        "from sklearn.linear_model import Ridge\n",
        "\n",
        "ridge = Ridge(alpha=2)\n",
        "model = ridge.fit(x,y).coef_"
      ],
      "metadata": {
        "id": "1SM1w9CotUuE"
      },
      "execution_count": 18,
      "outputs": []
    },
    {
      "cell_type": "code",
      "source": [
        "model"
      ],
      "metadata": {
        "colab": {
          "base_uri": "https://localhost:8080/"
        },
        "id": "rRypvwlttycy",
        "outputId": "f621135d-d3fb-4eee-998e-f6e62a76b836"
      },
      "execution_count": 19,
      "outputs": [
        {
          "output_type": "execute_result",
          "data": {
            "text/plain": [
              "array([-0.10319367,  0.04796043, -0.02145839,  2.45431681, -7.73369218,\n",
              "        3.85758698, -0.00791244, -1.32792806,  0.28392711, -0.01319574,\n",
              "       -0.8438767 ,  0.00982619, -0.53830498])"
            ]
          },
          "metadata": {},
          "execution_count": 19
        }
      ]
    },
    {
      "cell_type": "code",
      "source": [
        "plt.plot(range(len(names)),model)\n",
        "plt.xticks(range(len(names)),names,rotation=60)\n",
        "plt.show()"
      ],
      "metadata": {
        "colab": {
          "base_uri": "https://localhost:8080/",
          "height": 289
        },
        "id": "kEWIJAsPt3gt",
        "outputId": "a7ab5f93-6419-4d69-bfc3-3ed824931e64"
      },
      "execution_count": 20,
      "outputs": [
        {
          "output_type": "display_data",
          "data": {
            "image/png": "[encoded data removed]",
            "text/plain": [
              "<Figure size 432x288 with 1 Axes>"
            ]
          },
          "metadata": {
            "needs_background": "light"
          }
        }
      ]
    }
  ]
}