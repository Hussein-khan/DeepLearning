{
  "nbformat": 4,
  "nbformat_minor": 0,
  "metadata": {
    "colab": {
      "name": "ANN_Regression.ipynb",
      "provenance": [],
      "collapsed_sections": []
    },
    "kernelspec": {
      "name": "python3",
      "display_name": "Python 3"
    },
    "language_info": {
      "name": "python"
    }
  },
  "cells": [
    {
      "cell_type": "markdown",
      "source": [
        "# Artificial Neural Network\n",
        "## Regression"
      ],
      "metadata": {
        "id": "MWKLWpBMId8g"
      }
    },
    {
      "cell_type": "code",
      "execution_count": 52,
      "metadata": {
        "id": "RZVwk8zcHXm6"
      },
      "outputs": [],
      "source": [
        "#importing libraries \n",
        "import numpy as np\n",
        "import pandas as pd "
      ]
    },
    {
      "cell_type": "code",
      "source": [
        "df = pd.read_csv('/content/BostonHousing.csv')"
      ],
      "metadata": {
        "id": "xatKUWkMr2yG"
      },
      "execution_count": 56,
      "outputs": []
    },
    {
      "cell_type": "code",
      "source": [
        "df.head()"
      ],
      "metadata": {
        "colab": {
          "base_uri": "https://localhost:8080/",
          "height": 206
        },
        "id": "kjRHvgO7r7Cs",
        "outputId": "18cef5d3-7458-4693-af4a-0aef2eb14bf8"
      },
      "execution_count": 57,
      "outputs": [
        {
          "output_type": "execute_result",
          "data": {
            "text/html": [
              "\n",
              "  <div id=\"df-11a2bd23-0fc5-49b5-a2a7-ad8fc4a4ddba\">\n",
              "    <div class=\"colab-df-container\">\n",
              "      <div>\n",
              "<style scoped>\n",
              "    .dataframe tbody tr th:only-of-type {\n",
              "        vertical-align: middle;\n",
              "    }\n",
              "\n",
              "    .dataframe tbody tr th {\n",
              "        vertical-align: top;\n",
              "    }\n",
              "\n",
              "    .dataframe thead th {\n",
              "        text-align: right;\n",
              "    }\n",
              "</style>\n",
              "<table border=\"1\" class=\"dataframe\">\n",
              "  <thead>\n",
              "    <tr style=\"text-align: right;\">\n",
              "      <th></th>\n",
              "      <th>crim</th>\n",
              "      <th>zn</th>\n",
              "      <th>indus</th>\n",
              "      <th>chas</th>\n",
              "      <th>nox</th>\n",
              "      <th>rm</th>\n",
              "      <th>age</th>\n",
              "      <th>dis</th>\n",
              "      <th>rad</th>\n",
              "      <th>tax</th>\n",
              "      <th>ptratio</th>\n",
              "      <th>b</th>\n",
              "      <th>lstat</th>\n",
              "      <th>medv</th>\n",
              "    </tr>\n",
              "  </thead>\n",
              "  <tbody>\n",
              "    <tr>\n",
              "      <th>0</th>\n",
              "      <td>0.00632</td>\n",
              "      <td>18.0</td>\n",
              "      <td>2.31</td>\n",
              "      <td>0</td>\n",
              "      <td>0.538</td>\n",
              "      <td>6.575</td>\n",
              "      <td>65.2</td>\n",
              "      <td>4.0900</td>\n",
              "      <td>1</td>\n",
              "      <td>296</td>\n",
              "      <td>15.3</td>\n",
              "      <td>396.90</td>\n",
              "      <td>4.98</td>\n",
              "      <td>24.0</td>\n",
              "    </tr>\n",
              "    <tr>\n",
              "      <th>1</th>\n",
              "      <td>0.02731</td>\n",
              "      <td>0.0</td>\n",
              "      <td>7.07</td>\n",
              "      <td>0</td>\n",
              "      <td>0.469</td>\n",
              "      <td>6.421</td>\n",
              "      <td>78.9</td>\n",
              "      <td>4.9671</td>\n",
              "      <td>2</td>\n",
              "      <td>242</td>\n",
              "      <td>17.8</td>\n",
              "      <td>396.90</td>\n",
              "      <td>9.14</td>\n",
              "      <td>21.6</td>\n",
              "    </tr>\n",
              "    <tr>\n",
              "      <th>2</th>\n",
              "      <td>0.02729</td>\n",
              "      <td>0.0</td>\n",
              "      <td>7.07</td>\n",
              "      <td>0</td>\n",
              "      <td>0.469</td>\n",
              "      <td>7.185</td>\n",
              "      <td>61.1</td>\n",
              "      <td>4.9671</td>\n",
              "      <td>2</td>\n",
              "      <td>242</td>\n",
              "      <td>17.8</td>\n",
              "      <td>392.83</td>\n",
              "      <td>4.03</td>\n",
              "      <td>34.7</td>\n",
              "    </tr>\n",
              "    <tr>\n",
              "      <th>3</th>\n",
              "      <td>0.03237</td>\n",
              "      <td>0.0</td>\n",
              "      <td>2.18</td>\n",
              "      <td>0</td>\n",
              "      <td>0.458</td>\n",
              "      <td>6.998</td>\n",
              "      <td>45.8</td>\n",
              "      <td>6.0622</td>\n",
              "      <td>3</td>\n",
              "      <td>222</td>\n",
              "      <td>18.7</td>\n",
              "      <td>394.63</td>\n",
              "      <td>2.94</td>\n",
              "      <td>33.4</td>\n",
              "    </tr>\n",
              "    <tr>\n",
              "      <th>4</th>\n",
              "      <td>0.06905</td>\n",
              "      <td>0.0</td>\n",
              "      <td>2.18</td>\n",
              "      <td>0</td>\n",
              "      <td>0.458</td>\n",
              "      <td>7.147</td>\n",
              "      <td>54.2</td>\n",
              "      <td>6.0622</td>\n",
              "      <td>3</td>\n",
              "      <td>222</td>\n",
              "      <td>18.7</td>\n",
              "      <td>396.90</td>\n",
              "      <td>5.33</td>\n",
              "      <td>36.2</td>\n",
              "    </tr>\n",
              "  </tbody>\n",
              "</table>\n",
              "</div>\n",
              "      <button class=\"colab-df-convert\" onclick=\"convertToInteractive('df-11a2bd23-0fc5-49b5-a2a7-ad8fc4a4ddba')\"\n",
              "              title=\"Convert this dataframe to an interactive table.\"\n",
              "              style=\"display:none;\">\n",
              "        \n",
              "  <svg xmlns=\"http://www.w3.org/2000/svg\" height=\"24px\"viewBox=\"0 0 24 24\"\n",
              "       width=\"24px\">\n",
              "    <path d=\"M0 0h24v24H0V0z\" fill=\"none\"/>\n",
              "    <path d=\"M18.56 5.44l.94 2.06.94-2.06 2.06-.94-2.06-.94-.94-2.06-.94 2.06-2.06.94zm-11 1L8.5 8.5l.94-2.06 2.06-.94-2.06-.94L8.5 2.5l-.94 2.06-2.06.94zm10 10l.94 2.06.94-2.06 2.06-.94-2.06-.94-.94-2.06-.94 2.06-2.06.94z\"/><path d=\"M17.41 7.96l-1.37-1.37c-.4-.4-.92-.59-1.43-.59-.52 0-1.04.2-1.43.59L10.3 9.45l-7.72 7.72c-.78.78-.78 2.05 0 2.83L4 21.41c.39.39.9.59 1.41.59.51 0 1.02-.2 1.41-.59l7.78-7.78 2.81-2.81c.8-.78.8-2.07 0-2.86zM5.41 20L4 18.59l7.72-7.72 1.47 1.35L5.41 20z\"/>\n",
              "  </svg>\n",
              "      </button>\n",
              "      \n",
              "  <style>\n",
              "    .colab-df-container {\n",
              "      display:flex;\n",
              "      flex-wrap:wrap;\n",
              "      gap: 12px;\n",
              "    }\n",
              "\n",
              "    .colab-df-convert {\n",
              "      background-color: #E8F0FE;\n",
              "      border: none;\n",
              "      border-radius: 50%;\n",
              "      cursor: pointer;\n",
              "      display: none;\n",
              "      fill: #1967D2;\n",
              "      height: 32px;\n",
              "      padding: 0 0 0 0;\n",
              "      width: 32px;\n",
              "    }\n",
              "\n",
              "    .colab-df-convert:hover {\n",
              "      background-color: #E2EBFA;\n",
              "      box-shadow: 0px 1px 2px rgba(60, 64, 67, 0.3), 0px 1px 3px 1px rgba(60, 64, 67, 0.15);\n",
              "      fill: #174EA6;\n",
              "    }\n",
              "\n",
              "    [theme=dark] .colab-df-convert {\n",
              "      background-color: #3B4455;\n",
              "      fill: #D2E3FC;\n",
              "    }\n",
              "\n",
              "    [theme=dark] .colab-df-convert:hover {\n",
              "      background-color: #434B5C;\n",
              "      box-shadow: 0px 1px 3px 1px rgba(0, 0, 0, 0.15);\n",
              "      filter: drop-shadow(0px 1px 2px rgba(0, 0, 0, 0.3));\n",
              "      fill: #FFFFFF;\n",
              "    }\n",
              "  </style>\n",
              "\n",
              "      <script>\n",
              "        const buttonEl =\n",
              "          document.querySelector('#df-11a2bd23-0fc5-49b5-a2a7-ad8fc4a4ddba button.colab-df-convert');\n",
              "        buttonEl.style.display =\n",
              "          google.colab.kernel.accessAllowed ? 'block' : 'none';\n",
              "\n",
              "        async function convertToInteractive(key) {\n",
              "          const element = document.querySelector('#df-11a2bd23-0fc5-49b5-a2a7-ad8fc4a4ddba');\n",
              "          const dataTable =\n",
              "            await google.colab.kernel.invokeFunction('convertToInteractive',\n",
              "                                                     [key], {});\n",
              "          if (!dataTable) return;\n",
              "\n",
              "          const docLinkHtml = 'Like what you see? Visit the ' +\n",
              "            '<a target=\"_blank\" href=https://colab.research.google.com/notebooks/data_table.ipynb>data table notebook</a>'\n",
              "            + ' to learn more about interactive tables.';\n",
              "          element.innerHTML = '';\n",
              "          dataTable['output_type'] = 'display_data';\n",
              "          await google.colab.output.renderOutput(dataTable, element);\n",
              "          const docLink = document.createElement('div');\n",
              "          docLink.innerHTML = docLinkHtml;\n",
              "          element.appendChild(docLink);\n",
              "        }\n",
              "      </script>\n",
              "    </div>\n",
              "  </div>\n",
              "  "
            ],
            "text/plain": [
              "      crim    zn  indus  chas    nox  ...  tax  ptratio       b  lstat  medv\n",
              "0  0.00632  18.0   2.31     0  0.538  ...  296     15.3  396.90   4.98  24.0\n",
              "1  0.02731   0.0   7.07     0  0.469  ...  242     17.8  396.90   9.14  21.6\n",
              "2  0.02729   0.0   7.07     0  0.469  ...  242     17.8  392.83   4.03  34.7\n",
              "3  0.03237   0.0   2.18     0  0.458  ...  222     18.7  394.63   2.94  33.4\n",
              "4  0.06905   0.0   2.18     0  0.458  ...  222     18.7  396.90   5.33  36.2\n",
              "\n",
              "[5 rows x 14 columns]"
            ]
          },
          "metadata": {},
          "execution_count": 57
        }
      ]
    },
    {
      "cell_type": "code",
      "source": [
        "BHNames = ['crim','zn','indus','chas','nox','rm','age','dis','rad','tax','ptratio','b','lstat','medv']"
      ],
      "metadata": {
        "id": "CgjMHs0isr2v"
      },
      "execution_count": 58,
      "outputs": []
    },
    {
      "cell_type": "code",
      "source": [
        "from pandas.core.tools.datetimes import Scalar\n",
        "#to scale data\n",
        "from sklearn.preprocessing import MinMaxScaler\n",
        "scale = MinMaxScaler()\n",
        "print(scale.fit(df))\n",
        "\n",
        "scaledData = scale.fit_transform(df)\n",
        "scaledData = pd.DataFrame(scaledData,columns=BHNames)\n",
        "\n",
        "summary = scaledData.describe()\n",
        "summary = summary.transpose()\n",
        "print(summary)"
      ],
      "metadata": {
        "colab": {
          "base_uri": "https://localhost:8080/"
        },
        "id": "Uo4RYe8FsBJ5",
        "outputId": "bc8ceb6c-c0f4-4615-ec00-75fe2fc59c2b"
      },
      "execution_count": 59,
      "outputs": [
        {
          "output_type": "stream",
          "name": "stdout",
          "text": [
            "MinMaxScaler()\n",
            "         count      mean       std  min       25%       50%       75%  max\n",
            "crim     506.0  0.040544  0.096679  0.0  0.000851  0.002812  0.041258  1.0\n",
            "zn       506.0  0.113636  0.233225  0.0  0.000000  0.000000  0.125000  1.0\n",
            "indus    506.0  0.391378  0.251479  0.0  0.173387  0.338343  0.646628  1.0\n",
            "chas     506.0  0.069170  0.253994  0.0  0.000000  0.000000  0.000000  1.0\n",
            "nox      506.0  0.349167  0.238431  0.0  0.131687  0.314815  0.491770  1.0\n",
            "rm       506.0  0.521869  0.134627  0.0  0.445392  0.507281  0.586798  1.0\n",
            "age      506.0  0.676364  0.289896  0.0  0.433831  0.768280  0.938980  1.0\n",
            "dis      506.0  0.242381  0.191482  0.0  0.088259  0.188949  0.369088  1.0\n",
            "rad      506.0  0.371713  0.378576  0.0  0.130435  0.173913  1.000000  1.0\n",
            "tax      506.0  0.422208  0.321636  0.0  0.175573  0.272901  0.914122  1.0\n",
            "ptratio  506.0  0.622929  0.230313  0.0  0.510638  0.686170  0.808511  1.0\n",
            "b        506.0  0.898568  0.230205  0.0  0.945730  0.986232  0.998298  1.0\n",
            "lstat    506.0  0.301409  0.197049  0.0  0.144040  0.265728  0.420116  1.0\n",
            "medv     506.0  0.389618  0.204380  0.0  0.267222  0.360000  0.444444  1.0\n"
          ]
        }
      ]
    },
    {
      "cell_type": "code",
      "source": [
        "#visualizing data\n",
        "import matplotlib.pyplot as plt\n",
        "boxplot = scaledData.boxplot(column=BHNames)\n",
        "plt.show"
      ],
      "metadata": {
        "colab": {
          "base_uri": "https://localhost:8080/",
          "height": 282
        },
        "id": "pJ2SVos3t7Rf",
        "outputId": "37a495b9-7ac1-4390-e671-3a1a83163b2c"
      },
      "execution_count": 60,
      "outputs": [
        {
          "output_type": "execute_result",
          "data": {
            "text/plain": [
              "<function matplotlib.pyplot.show>"
            ]
          },
          "metadata": {},
          "execution_count": 60
        },
        {
          "output_type": "display_data",
          "data": {
            "image/png": "[encoded data removed]",
            "text/plain": [
              "<Figure size 432x288 with 1 Axes>"
            ]
          },
          "metadata": {
            "needs_background": "light"
          }
        }
      ]
    },
    {
      "cell_type": "code",
      "source": [
        "corrdata = scaledData.corr(method='pearson')\n",
        "with pd.option_context('display.max_rows',None,'display.max_columns',corrdata.shape[1]):\n",
        "  print(corrdata)"
      ],
      "metadata": {
        "colab": {
          "base_uri": "https://localhost:8080/"
        },
        "id": "PJvfRoonum7H",
        "outputId": "86052c0c-c8f0-485b-fa04-4aa17c27060e"
      },
      "execution_count": 61,
      "outputs": [
        {
          "output_type": "stream",
          "name": "stdout",
          "text": [
            "             crim        zn     indus      chas       nox        rm       age  \\\n",
            "crim     1.000000 -0.200469  0.406583 -0.055892  0.420972 -0.219247  0.352734   \n",
            "zn      -0.200469  1.000000 -0.533828 -0.042697 -0.516604  0.311991 -0.569537   \n",
            "indus    0.406583 -0.533828  1.000000  0.062938  0.763651 -0.391676  0.644779   \n",
            "chas    -0.055892 -0.042697  0.062938  1.000000  0.091203  0.091251  0.086518   \n",
            "nox      0.420972 -0.516604  0.763651  0.091203  1.000000 -0.302188  0.731470   \n",
            "rm      -0.219247  0.311991 -0.391676  0.091251 -0.302188  1.000000 -0.240265   \n",
            "age      0.352734 -0.569537  0.644779  0.086518  0.731470 -0.240265  1.000000   \n",
            "dis     -0.379670  0.664408 -0.708027 -0.099176 -0.769230  0.205246 -0.747881   \n",
            "rad      0.625505 -0.311948  0.595129 -0.007368  0.611441 -0.209847  0.456022   \n",
            "tax      0.582764 -0.314563  0.720760 -0.035587  0.668023 -0.292048  0.506456   \n",
            "ptratio  0.289946 -0.391679  0.383248 -0.121515  0.188933 -0.355501  0.261515   \n",
            "b       -0.385064  0.175520 -0.356977  0.048788 -0.380051  0.128069 -0.273534   \n",
            "lstat    0.455621 -0.412995  0.603800 -0.053929  0.590879 -0.613808  0.602339   \n",
            "medv    -0.388305  0.360445 -0.483725  0.175260 -0.427321  0.695360 -0.376955   \n",
            "\n",
            "              dis       rad       tax   ptratio         b     lstat      medv  \n",
            "crim    -0.379670  0.625505  0.582764  0.289946 -0.385064  0.455621 -0.388305  \n",
            "zn       0.664408 -0.311948 -0.314563 -0.391679  0.175520 -0.412995  0.360445  \n",
            "indus   -0.708027  0.595129  0.720760  0.383248 -0.356977  0.603800 -0.483725  \n",
            "chas    -0.099176 -0.007368 -0.035587 -0.121515  0.048788 -0.053929  0.175260  \n",
            "nox     -0.769230  0.611441  0.668023  0.188933 -0.380051  0.590879 -0.427321  \n",
            "rm       0.205246 -0.209847 -0.292048 -0.355501  0.128069 -0.613808  0.695360  \n",
            "age     -0.747881  0.456022  0.506456  0.261515 -0.273534  0.602339 -0.376955  \n",
            "dis      1.000000 -0.494588 -0.534432 -0.232471  0.291512 -0.496996  0.249929  \n",
            "rad     -0.494588  1.000000  0.910228  0.464741 -0.444413  0.488676 -0.381626  \n",
            "tax     -0.534432  0.910228  1.000000  0.460853 -0.441808  0.543993 -0.468536  \n",
            "ptratio -0.232471  0.464741  0.460853  1.000000 -0.177383  0.374044 -0.507787  \n",
            "b        0.291512 -0.444413 -0.441808 -0.177383  1.000000 -0.366087  0.333461  \n",
            "lstat   -0.496996  0.488676  0.543993  0.374044 -0.366087  1.000000 -0.737663  \n",
            "medv     0.249929 -0.381626 -0.468536 -0.507787  0.333461 -0.737663  1.000000  \n"
          ]
        }
      ]
    },
    {
      "cell_type": "code",
      "source": [
        "#spliting data into training and testing\n",
        "from sklearn.model_selection import train_test_split\n",
        "\n",
        "x = scaledData.drop('medv',axis=1)\n",
        "y = scaledData['medv']\n",
        "\n",
        "x_train,x_test,y_train,y_test = train_test_split(x,y,test_size=0.2)"
      ],
      "metadata": {
        "id": "Jr1hOxiWvvTo"
      },
      "execution_count": 62,
      "outputs": []
    },
    {
      "cell_type": "code",
      "source": [
        "print('x_train',x_train.shape)\n",
        "print('x_test',x_test.shape)\n",
        "print('y_train',y_train.shape)\n",
        "print('x_test',y_test.shape)"
      ],
      "metadata": {
        "colab": {
          "base_uri": "https://localhost:8080/"
        },
        "id": "4DnwWiJmwk9v",
        "outputId": "88ac77fd-3239-4201-b789-f5d658910536"
      },
      "execution_count": 63,
      "outputs": [
        {
          "output_type": "stream",
          "name": "stdout",
          "text": [
            "x_train (404, 13)\n",
            "x_test (102, 13)\n",
            "y_train (404,)\n",
            "x_test (102,)\n"
          ]
        }
      ]
    },
    {
      "cell_type": "code",
      "source": [
        "#import model platform \n",
        "import keras\n",
        "from keras.engine.sequential import Sequential\n",
        "from keras.layers import Dense,Flatten"
      ],
      "metadata": {
        "id": "QTv_3kLixJ1_"
      },
      "execution_count": 66,
      "outputs": []
    },
    {
      "cell_type": "code",
      "source": [
        "#training model\n",
        "classifier = Sequential()\n",
        "\n",
        "#adding first hidden layer and input\n",
        "classifier.add(Dense(16,activation='relu',input_dim=13))\n",
        "\n",
        "#adding second hidden layer\n",
        "classifier.add(Dense(16,activation='relu'))\n",
        "\n",
        "#adding the output layer\n",
        "classifier.add(Dense(1,activation='sigmoid'))\n",
        "\n",
        "#compiling \n",
        "classifier.compile(optimizer='adam',loss='mean_squared_error',metrics=['accuracy'])"
      ],
      "metadata": {
        "id": "FOFvvTwVxOkM"
      },
      "execution_count": 68,
      "outputs": []
    },
    {
      "cell_type": "code",
      "source": [
        "#fitting model\n",
        "classifier.fit(x=x_train,y=y_train,batch_size=120,epochs=20,validation_split=0.2)"
      ],
      "metadata": {
        "colab": {
          "base_uri": "https://localhost:8080/"
        },
        "id": "IksQJsc0xyjM",
        "outputId": "48a8891b-30ab-4032-d4de-eb30c3890639"
      },
      "execution_count": 70,
      "outputs": [
        {
          "output_type": "stream",
          "name": "stdout",
          "text": [
            "Epoch 1/20\n",
            "3/3 [==============================] - 0s 99ms/step - loss: 0.0073 - accuracy: 0.0372 - val_loss: 0.0057 - val_accuracy: 0.0370\n",
            "Epoch 2/20\n",
            "3/3 [==============================] - 0s 18ms/step - loss: 0.0073 - accuracy: 0.0372 - val_loss: 0.0057 - val_accuracy: 0.0370\n",
            "Epoch 3/20\n",
            "3/3 [==============================] - 0s 14ms/step - loss: 0.0072 - accuracy: 0.0372 - val_loss: 0.0057 - val_accuracy: 0.0370\n",
            "Epoch 4/20\n",
            "3/3 [==============================] - 0s 16ms/step - loss: 0.0072 - accuracy: 0.0372 - val_loss: 0.0057 - val_accuracy: 0.0370\n",
            "Epoch 5/20\n",
            "3/3 [==============================] - 0s 16ms/step - loss: 0.0072 - accuracy: 0.0372 - val_loss: 0.0056 - val_accuracy: 0.0370\n",
            "Epoch 6/20\n",
            "3/3 [==============================] - 0s 18ms/step - loss: 0.0071 - accuracy: 0.0372 - val_loss: 0.0055 - val_accuracy: 0.0370\n",
            "Epoch 7/20\n",
            "3/3 [==============================] - 0s 16ms/step - loss: 0.0071 - accuracy: 0.0372 - val_loss: 0.0055 - val_accuracy: 0.0370\n",
            "Epoch 8/20\n",
            "3/3 [==============================] - 0s 15ms/step - loss: 0.0070 - accuracy: 0.0372 - val_loss: 0.0055 - val_accuracy: 0.0370\n",
            "Epoch 9/20\n",
            "3/3 [==============================] - 0s 17ms/step - loss: 0.0070 - accuracy: 0.0372 - val_loss: 0.0055 - val_accuracy: 0.0370\n",
            "Epoch 10/20\n",
            "3/3 [==============================] - 0s 19ms/step - loss: 0.0070 - accuracy: 0.0372 - val_loss: 0.0054 - val_accuracy: 0.0370\n",
            "Epoch 11/20\n",
            "3/3 [==============================] - 0s 25ms/step - loss: 0.0069 - accuracy: 0.0372 - val_loss: 0.0055 - val_accuracy: 0.0370\n",
            "Epoch 12/20\n",
            "3/3 [==============================] - 0s 18ms/step - loss: 0.0069 - accuracy: 0.0372 - val_loss: 0.0055 - val_accuracy: 0.0370\n",
            "Epoch 13/20\n",
            "3/3 [==============================] - 0s 15ms/step - loss: 0.0069 - accuracy: 0.0372 - val_loss: 0.0055 - val_accuracy: 0.0370\n",
            "Epoch 14/20\n",
            "3/3 [==============================] - 0s 16ms/step - loss: 0.0069 - accuracy: 0.0372 - val_loss: 0.0055 - val_accuracy: 0.0370\n",
            "Epoch 15/20\n",
            "3/3 [==============================] - 0s 18ms/step - loss: 0.0068 - accuracy: 0.0372 - val_loss: 0.0054 - val_accuracy: 0.0370\n",
            "Epoch 16/20\n",
            "3/3 [==============================] - 0s 14ms/step - loss: 0.0068 - accuracy: 0.0372 - val_loss: 0.0054 - val_accuracy: 0.0370\n",
            "Epoch 17/20\n",
            "3/3 [==============================] - 0s 14ms/step - loss: 0.0068 - accuracy: 0.0372 - val_loss: 0.0054 - val_accuracy: 0.0370\n",
            "Epoch 18/20\n",
            "3/3 [==============================] - 0s 14ms/step - loss: 0.0067 - accuracy: 0.0372 - val_loss: 0.0054 - val_accuracy: 0.0370\n",
            "Epoch 19/20\n",
            "3/3 [==============================] - 0s 14ms/step - loss: 0.0067 - accuracy: 0.0372 - val_loss: 0.0053 - val_accuracy: 0.0370\n",
            "Epoch 20/20\n",
            "3/3 [==============================] - 0s 17ms/step - loss: 0.0067 - accuracy: 0.0372 - val_loss: 0.0053 - val_accuracy: 0.0370\n"
          ]
        },
        {
          "output_type": "execute_result",
          "data": {
            "text/plain": [
              "<keras.callbacks.History at 0x7f74bf413890>"
            ]
          },
          "metadata": {},
          "execution_count": 70
        }
      ]
    },
    {
      "cell_type": "code",
      "source": [
        "classifier.summary()"
      ],
      "metadata": {
        "colab": {
          "base_uri": "https://localhost:8080/"
        },
        "id": "gKwmeGREya6w",
        "outputId": "330afc4a-8567-470c-8a94-0306d37d80a6"
      },
      "execution_count": 72,
      "outputs": [
        {
          "output_type": "stream",
          "name": "stdout",
          "text": [
            "Model: \"sequential_1\"\n",
            "_________________________________________________________________\n",
            " Layer (type)                Output Shape              Param #   \n",
            "=================================================================\n",
            " dense_3 (Dense)             (None, 16)                224       \n",
            "                                                                 \n",
            " dense_4 (Dense)             (None, 16)                272       \n",
            "                                                                 \n",
            " dense_5 (Dense)             (None, 1)                 17        \n",
            "                                                                 \n",
            "=================================================================\n",
            "Total params: 513\n",
            "Trainable params: 513\n",
            "Non-trainable params: 0\n",
            "_________________________________________________________________\n"
          ]
        }
      ]
    },
    {
      "cell_type": "code",
      "source": [
        "#prediction\n",
        "y_pred = classifier.predict(x_test)"
      ],
      "metadata": {
        "id": "FA8Le5TtySFZ"
      },
      "execution_count": 73,
      "outputs": []
    },
    {
      "cell_type": "code",
      "source": [
        "#score\n",
        "classifier.evaluate(x_test,y_test,verbose=1)"
      ],
      "metadata": {
        "colab": {
          "base_uri": "https://localhost:8080/"
        },
        "id": "4ARXDUkkyidd",
        "outputId": "852c2ca4-54fc-4e20-ce9f-bb1456a320e1"
      },
      "execution_count": 75,
      "outputs": [
        {
          "output_type": "stream",
          "name": "stdout",
          "text": [
            "4/4 [==============================] - 0s 6ms/step - loss: 0.0075 - accuracy: 0.0294\n"
          ]
        },
        {
          "output_type": "execute_result",
          "data": {
            "text/plain": [
              "[0.007525102235376835, 0.029411764815449715]"
            ]
          },
          "metadata": {},
          "execution_count": 75
        }
      ]
    }
  ]
}