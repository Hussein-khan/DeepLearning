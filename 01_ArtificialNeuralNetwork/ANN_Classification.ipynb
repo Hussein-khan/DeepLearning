{
  "nbformat": 4,
  "nbformat_minor": 0,
  "metadata": {
    "colab": {
      "name": "ANN.ipynb",
      "provenance": [],
      "collapsed_sections": []
    },
    "kernelspec": {
      "name": "python3",
      "display_name": "Python 3"
    },
    "language_info": {
      "name": "python"
    }
  },
  "cells": [
    {
      "cell_type": "markdown",
      "source": [
        "# Artificial Neural Network "
      ],
      "metadata": {
        "id": "C-oQYBrgqTHC"
      }
    },
    {
      "cell_type": "code",
      "execution_count": null,
      "metadata": {
        "colab": {
          "base_uri": "https://localhost:8080/"
        },
        "id": "ZAQ9gFbKpol0",
        "outputId": "9d7447cd-27c1-4b87-a0f9-27277f192807"
      },
      "outputs": [
        {
          "output_type": "stream",
          "name": "stdout",
          "text": [
            "Requirement already satisfied: keras in /usr/local/lib/python3.7/dist-packages (2.7.0)\n"
          ]
        }
      ],
      "source": [
        "!pip install keras"
      ]
    },
    {
      "cell_type": "code",
      "source": [
        "# importing dependencies\n",
        "import numpy as np\n",
        "import pandas as pd"
      ],
      "metadata": {
        "id": "U1ki0kz4qcdH"
      },
      "execution_count": 1,
      "outputs": []
    },
    {
      "cell_type": "code",
      "source": [
        "# loading dataset\n",
        "df = pd.read_csv('/content/breast-cancer.csv')\n",
        "df.head()"
      ],
      "metadata": {
        "colab": {
          "base_uri": "https://localhost:8080/",
          "height": 288
        },
        "id": "q28NgOO8rAah",
        "outputId": "a0d1785e-ea18-488f-aac9-1e373da11863"
      },
      "execution_count": 2,
      "outputs": [
        {
          "output_type": "execute_result",
          "data": {
            "text/html": [
              "\n",
              "  <div id=\"df-e6166ee6-346d-46cd-9a1b-0ec332670f39\">\n",
              "    <div class=\"colab-df-container\">\n",
              "      <div>\n",
              "<style scoped>\n",
              "    .dataframe tbody tr th:only-of-type {\n",
              "        vertical-align: middle;\n",
              "    }\n",
              "\n",
              "    .dataframe tbody tr th {\n",
              "        vertical-align: top;\n",
              "    }\n",
              "\n",
              "    .dataframe thead th {\n",
              "        text-align: right;\n",
              "    }\n",
              "</style>\n",
              "<table border=\"1\" class=\"dataframe\">\n",
              "  <thead>\n",
              "    <tr style=\"text-align: right;\">\n",
              "      <th></th>\n",
              "      <th>id</th>\n",
              "      <th>diagnosis</th>\n",
              "      <th>radius_mean</th>\n",
              "      <th>texture_mean</th>\n",
              "      <th>perimeter_mean</th>\n",
              "      <th>area_mean</th>\n",
              "      <th>smoothness_mean</th>\n",
              "      <th>compactness_mean</th>\n",
              "      <th>concavity_mean</th>\n",
              "      <th>concave points_mean</th>\n",
              "      <th>symmetry_mean</th>\n",
              "      <th>fractal_dimension_mean</th>\n",
              "      <th>radius_se</th>\n",
              "      <th>texture_se</th>\n",
              "      <th>perimeter_se</th>\n",
              "      <th>area_se</th>\n",
              "      <th>smoothness_se</th>\n",
              "      <th>compactness_se</th>\n",
              "      <th>concavity_se</th>\n",
              "      <th>concave points_se</th>\n",
              "      <th>symmetry_se</th>\n",
              "      <th>fractal_dimension_se</th>\n",
              "      <th>radius_worst</th>\n",
              "      <th>texture_worst</th>\n",
              "      <th>perimeter_worst</th>\n",
              "      <th>area_worst</th>\n",
              "      <th>smoothness_worst</th>\n",
              "      <th>compactness_worst</th>\n",
              "      <th>concavity_worst</th>\n",
              "      <th>concave points_worst</th>\n",
              "      <th>symmetry_worst</th>\n",
              "      <th>fractal_dimension_worst</th>\n",
              "    </tr>\n",
              "  </thead>\n",
              "  <tbody>\n",
              "    <tr>\n",
              "      <th>0</th>\n",
              "      <td>842302</td>\n",
              "      <td>M</td>\n",
              "      <td>17.99</td>\n",
              "      <td>10.38</td>\n",
              "      <td>122.80</td>\n",
              "      <td>1001.0</td>\n",
              "      <td>0.11840</td>\n",
              "      <td>0.27760</td>\n",
              "      <td>0.3001</td>\n",
              "      <td>0.14710</td>\n",
              "      <td>0.2419</td>\n",
              "      <td>0.07871</td>\n",
              "      <td>1.0950</td>\n",
              "      <td>0.9053</td>\n",
              "      <td>8.589</td>\n",
              "      <td>153.40</td>\n",
              "      <td>0.006399</td>\n",
              "      <td>0.04904</td>\n",
              "      <td>0.05373</td>\n",
              "      <td>0.01587</td>\n",
              "      <td>0.03003</td>\n",
              "      <td>0.006193</td>\n",
              "      <td>25.38</td>\n",
              "      <td>17.33</td>\n",
              "      <td>184.60</td>\n",
              "      <td>2019.0</td>\n",
              "      <td>0.1622</td>\n",
              "      <td>0.6656</td>\n",
              "      <td>0.7119</td>\n",
              "      <td>0.2654</td>\n",
              "      <td>0.4601</td>\n",
              "      <td>0.11890</td>\n",
              "    </tr>\n",
              "    <tr>\n",
              "      <th>1</th>\n",
              "      <td>842517</td>\n",
              "      <td>M</td>\n",
              "      <td>20.57</td>\n",
              "      <td>17.77</td>\n",
              "      <td>132.90</td>\n",
              "      <td>1326.0</td>\n",
              "      <td>0.08474</td>\n",
              "      <td>0.07864</td>\n",
              "      <td>0.0869</td>\n",
              "      <td>0.07017</td>\n",
              "      <td>0.1812</td>\n",
              "      <td>0.05667</td>\n",
              "      <td>0.5435</td>\n",
              "      <td>0.7339</td>\n",
              "      <td>3.398</td>\n",
              "      <td>74.08</td>\n",
              "      <td>0.005225</td>\n",
              "      <td>0.01308</td>\n",
              "      <td>0.01860</td>\n",
              "      <td>0.01340</td>\n",
              "      <td>0.01389</td>\n",
              "      <td>0.003532</td>\n",
              "      <td>24.99</td>\n",
              "      <td>23.41</td>\n",
              "      <td>158.80</td>\n",
              "      <td>1956.0</td>\n",
              "      <td>0.1238</td>\n",
              "      <td>0.1866</td>\n",
              "      <td>0.2416</td>\n",
              "      <td>0.1860</td>\n",
              "      <td>0.2750</td>\n",
              "      <td>0.08902</td>\n",
              "    </tr>\n",
              "    <tr>\n",
              "      <th>2</th>\n",
              "      <td>84300903</td>\n",
              "      <td>M</td>\n",
              "      <td>19.69</td>\n",
              "      <td>21.25</td>\n",
              "      <td>130.00</td>\n",
              "      <td>1203.0</td>\n",
              "      <td>0.10960</td>\n",
              "      <td>0.15990</td>\n",
              "      <td>0.1974</td>\n",
              "      <td>0.12790</td>\n",
              "      <td>0.2069</td>\n",
              "      <td>0.05999</td>\n",
              "      <td>0.7456</td>\n",
              "      <td>0.7869</td>\n",
              "      <td>4.585</td>\n",
              "      <td>94.03</td>\n",
              "      <td>0.006150</td>\n",
              "      <td>0.04006</td>\n",
              "      <td>0.03832</td>\n",
              "      <td>0.02058</td>\n",
              "      <td>0.02250</td>\n",
              "      <td>0.004571</td>\n",
              "      <td>23.57</td>\n",
              "      <td>25.53</td>\n",
              "      <td>152.50</td>\n",
              "      <td>1709.0</td>\n",
              "      <td>0.1444</td>\n",
              "      <td>0.4245</td>\n",
              "      <td>0.4504</td>\n",
              "      <td>0.2430</td>\n",
              "      <td>0.3613</td>\n",
              "      <td>0.08758</td>\n",
              "    </tr>\n",
              "    <tr>\n",
              "      <th>3</th>\n",
              "      <td>84348301</td>\n",
              "      <td>M</td>\n",
              "      <td>11.42</td>\n",
              "      <td>20.38</td>\n",
              "      <td>77.58</td>\n",
              "      <td>386.1</td>\n",
              "      <td>0.14250</td>\n",
              "      <td>0.28390</td>\n",
              "      <td>0.2414</td>\n",
              "      <td>0.10520</td>\n",
              "      <td>0.2597</td>\n",
              "      <td>0.09744</td>\n",
              "      <td>0.4956</td>\n",
              "      <td>1.1560</td>\n",
              "      <td>3.445</td>\n",
              "      <td>27.23</td>\n",
              "      <td>0.009110</td>\n",
              "      <td>0.07458</td>\n",
              "      <td>0.05661</td>\n",
              "      <td>0.01867</td>\n",
              "      <td>0.05963</td>\n",
              "      <td>0.009208</td>\n",
              "      <td>14.91</td>\n",
              "      <td>26.50</td>\n",
              "      <td>98.87</td>\n",
              "      <td>567.7</td>\n",
              "      <td>0.2098</td>\n",
              "      <td>0.8663</td>\n",
              "      <td>0.6869</td>\n",
              "      <td>0.2575</td>\n",
              "      <td>0.6638</td>\n",
              "      <td>0.17300</td>\n",
              "    </tr>\n",
              "    <tr>\n",
              "      <th>4</th>\n",
              "      <td>84358402</td>\n",
              "      <td>M</td>\n",
              "      <td>20.29</td>\n",
              "      <td>14.34</td>\n",
              "      <td>135.10</td>\n",
              "      <td>1297.0</td>\n",
              "      <td>0.10030</td>\n",
              "      <td>0.13280</td>\n",
              "      <td>0.1980</td>\n",
              "      <td>0.10430</td>\n",
              "      <td>0.1809</td>\n",
              "      <td>0.05883</td>\n",
              "      <td>0.7572</td>\n",
              "      <td>0.7813</td>\n",
              "      <td>5.438</td>\n",
              "      <td>94.44</td>\n",
              "      <td>0.011490</td>\n",
              "      <td>0.02461</td>\n",
              "      <td>0.05688</td>\n",
              "      <td>0.01885</td>\n",
              "      <td>0.01756</td>\n",
              "      <td>0.005115</td>\n",
              "      <td>22.54</td>\n",
              "      <td>16.67</td>\n",
              "      <td>152.20</td>\n",
              "      <td>1575.0</td>\n",
              "      <td>0.1374</td>\n",
              "      <td>0.2050</td>\n",
              "      <td>0.4000</td>\n",
              "      <td>0.1625</td>\n",
              "      <td>0.2364</td>\n",
              "      <td>0.07678</td>\n",
              "    </tr>\n",
              "  </tbody>\n",
              "</table>\n",
              "</div>\n",
              "      <button class=\"colab-df-convert\" onclick=\"convertToInteractive('df-e6166ee6-346d-46cd-9a1b-0ec332670f39')\"\n",
              "              title=\"Convert this dataframe to an interactive table.\"\n",
              "              style=\"display:none;\">\n",
              "        \n",
              "  <svg xmlns=\"http://www.w3.org/2000/svg\" height=\"24px\"viewBox=\"0 0 24 24\"\n",
              "       width=\"24px\">\n",
              "    <path d=\"M0 0h24v24H0V0z\" fill=\"none\"/>\n",
              "    <path d=\"M18.56 5.44l.94 2.06.94-2.06 2.06-.94-2.06-.94-.94-2.06-.94 2.06-2.06.94zm-11 1L8.5 8.5l.94-2.06 2.06-.94-2.06-.94L8.5 2.5l-.94 2.06-2.06.94zm10 10l.94 2.06.94-2.06 2.06-.94-2.06-.94-.94-2.06-.94 2.06-2.06.94z\"/><path d=\"M17.41 7.96l-1.37-1.37c-.4-.4-.92-.59-1.43-.59-.52 0-1.04.2-1.43.59L10.3 9.45l-7.72 7.72c-.78.78-.78 2.05 0 2.83L4 21.41c.39.39.9.59 1.41.59.51 0 1.02-.2 1.41-.59l7.78-7.78 2.81-2.81c.8-.78.8-2.07 0-2.86zM5.41 20L4 18.59l7.72-7.72 1.47 1.35L5.41 20z\"/>\n",
              "  </svg>\n",
              "      </button>\n",
              "      \n",
              "  <style>\n",
              "    .colab-df-container {\n",
              "      display:flex;\n",
              "      flex-wrap:wrap;\n",
              "      gap: 12px;\n",
              "    }\n",
              "\n",
              "    .colab-df-convert {\n",
              "      background-color: #E8F0FE;\n",
              "      border: none;\n",
              "      border-radius: 50%;\n",
              "      cursor: pointer;\n",
              "      display: none;\n",
              "      fill: #1967D2;\n",
              "      height: 32px;\n",
              "      padding: 0 0 0 0;\n",
              "      width: 32px;\n",
              "    }\n",
              "\n",
              "    .colab-df-convert:hover {\n",
              "      background-color: #E2EBFA;\n",
              "      box-shadow: 0px 1px 2px rgba(60, 64, 67, 0.3), 0px 1px 3px 1px rgba(60, 64, 67, 0.15);\n",
              "      fill: #174EA6;\n",
              "    }\n",
              "\n",
              "    [theme=dark] .colab-df-convert {\n",
              "      background-color: #3B4455;\n",
              "      fill: #D2E3FC;\n",
              "    }\n",
              "\n",
              "    [theme=dark] .colab-df-convert:hover {\n",
              "      background-color: #434B5C;\n",
              "      box-shadow: 0px 1px 3px 1px rgba(0, 0, 0, 0.15);\n",
              "      filter: drop-shadow(0px 1px 2px rgba(0, 0, 0, 0.3));\n",
              "      fill: #FFFFFF;\n",
              "    }\n",
              "  </style>\n",
              "\n",
              "      <script>\n",
              "        const buttonEl =\n",
              "          document.querySelector('#df-e6166ee6-346d-46cd-9a1b-0ec332670f39 button.colab-df-convert');\n",
              "        buttonEl.style.display =\n",
              "          google.colab.kernel.accessAllowed ? 'block' : 'none';\n",
              "\n",
              "        async function convertToInteractive(key) {\n",
              "          const element = document.querySelector('#df-e6166ee6-346d-46cd-9a1b-0ec332670f39');\n",
              "          const dataTable =\n",
              "            await google.colab.kernel.invokeFunction('convertToInteractive',\n",
              "                                                     [key], {});\n",
              "          if (!dataTable) return;\n",
              "\n",
              "          const docLinkHtml = 'Like what you see? Visit the ' +\n",
              "            '<a target=\"_blank\" href=https://colab.research.google.com/notebooks/data_table.ipynb>data table notebook</a>'\n",
              "            + ' to learn more about interactive tables.';\n",
              "          element.innerHTML = '';\n",
              "          dataTable['output_type'] = 'display_data';\n",
              "          await google.colab.output.renderOutput(dataTable, element);\n",
              "          const docLink = document.createElement('div');\n",
              "          docLink.innerHTML = docLinkHtml;\n",
              "          element.appendChild(docLink);\n",
              "        }\n",
              "      </script>\n",
              "    </div>\n",
              "  </div>\n",
              "  "
            ],
            "text/plain": [
              "         id diagnosis  ...  symmetry_worst  fractal_dimension_worst\n",
              "0    842302         M  ...          0.4601                  0.11890\n",
              "1    842517         M  ...          0.2750                  0.08902\n",
              "2  84300903         M  ...          0.3613                  0.08758\n",
              "3  84348301         M  ...          0.6638                  0.17300\n",
              "4  84358402         M  ...          0.2364                  0.07678\n",
              "\n",
              "[5 rows x 32 columns]"
            ]
          },
          "metadata": {},
          "execution_count": 2
        }
      ]
    },
    {
      "cell_type": "code",
      "source": [
        "df.isnull().sum()"
      ],
      "metadata": {
        "colab": {
          "base_uri": "https://localhost:8080/"
        },
        "id": "KSGIkLNcrRoQ",
        "outputId": "b1c9e64c-3ca0-4eaa-fc30-cb9b29294d58"
      },
      "execution_count": 3,
      "outputs": [
        {
          "output_type": "execute_result",
          "data": {
            "text/plain": [
              "id                         0\n",
              "diagnosis                  0\n",
              "radius_mean                0\n",
              "texture_mean               0\n",
              "perimeter_mean             0\n",
              "area_mean                  0\n",
              "smoothness_mean            0\n",
              "compactness_mean           0\n",
              "concavity_mean             0\n",
              "concave points_mean        0\n",
              "symmetry_mean              0\n",
              "fractal_dimension_mean     0\n",
              "radius_se                  0\n",
              "texture_se                 0\n",
              "perimeter_se               0\n",
              "area_se                    0\n",
              "smoothness_se              0\n",
              "compactness_se             0\n",
              "concavity_se               0\n",
              "concave points_se          0\n",
              "symmetry_se                0\n",
              "fractal_dimension_se       0\n",
              "radius_worst               0\n",
              "texture_worst              0\n",
              "perimeter_worst            0\n",
              "area_worst                 0\n",
              "smoothness_worst           0\n",
              "compactness_worst          0\n",
              "concavity_worst            0\n",
              "concave points_worst       0\n",
              "symmetry_worst             0\n",
              "fractal_dimension_worst    0\n",
              "dtype: int64"
            ]
          },
          "metadata": {},
          "execution_count": 3
        }
      ]
    },
    {
      "cell_type": "code",
      "source": [
        "#visualizing quantity\n",
        "import seaborn as sns \n",
        "ax = sns.countplot(df['diagnosis'],label='count')"
      ],
      "metadata": {
        "colab": {
          "base_uri": "https://localhost:8080/",
          "height": 334
        },
        "id": "rM_VHJkPsccd",
        "outputId": "62a35037-8671-4812-82d7-83216915ec65"
      },
      "execution_count": 4,
      "outputs": [
        {
          "output_type": "stream",
          "name": "stderr",
          "text": [
            "/usr/local/lib/python3.7/dist-packages/seaborn/_decorators.py:43: FutureWarning: Pass the following variable as a keyword arg: x. From version 0.12, the only valid positional argument will be `data`, and passing other arguments without an explicit keyword will result in an error or misinterpretation.\n",
            "  FutureWarning\n"
          ]
        },
        {
          "output_type": "display_data",
          "data": {
            "image/png": "[encoded data removed]",
            "text/plain": [
              "<Figure size 432x288 with 1 Axes>"
            ]
          },
          "metadata": {
            "needs_background": "light"
          }
        }
      ]
    },
    {
      "cell_type": "code",
      "source": [
        "#spliting data \n",
        "x = df.drop(['diagnosis'],axis=1)\n",
        "y = df['diagnosis']"
      ],
      "metadata": {
        "id": "7URE7ej5shev"
      },
      "execution_count": 5,
      "outputs": []
    },
    {
      "cell_type": "code",
      "source": [
        "#encoding label\n",
        "from sklearn.preprocessing import LabelEncoder\n",
        "label = LabelEncoder()\n",
        "y = label.fit_transform(y)"
      ],
      "metadata": {
        "id": "TX3_IUgDskRJ"
      },
      "execution_count": 6,
      "outputs": []
    },
    {
      "cell_type": "code",
      "source": [
        "#spliting data into training and testing\n",
        "from sklearn.model_selection import train_test_split\n",
        "x_train,x_test,y_train,y_test = train_test_split(x,y,test_size=0.2)"
      ],
      "metadata": {
        "id": "1xe9pntXsn5j"
      },
      "execution_count": 7,
      "outputs": []
    },
    {
      "cell_type": "code",
      "source": [
        "#scaling data\n",
        "from sklearn.preprocessing import StandardScaler\n",
        "sc = StandardScaler()\n",
        "x_train = sc.fit_transform(x_train)\n",
        "x_test = sc.fit_transform(x_test)"
      ],
      "metadata": {
        "id": "MrEbDCNzsrsu"
      },
      "execution_count": 8,
      "outputs": []
    },
    {
      "cell_type": "code",
      "source": [
        "x_train.shape"
      ],
      "metadata": {
        "colab": {
          "base_uri": "https://localhost:8080/"
        },
        "id": "caiXrJ2DdxGf",
        "outputId": "7127dbcb-505f-4430-f045-b2a7571b0937"
      },
      "execution_count": 11,
      "outputs": [
        {
          "output_type": "execute_result",
          "data": {
            "text/plain": [
              "(455, 31)"
            ]
          },
          "metadata": {},
          "execution_count": 11
        }
      ]
    },
    {
      "cell_type": "code",
      "source": [
        "#import model platform \n",
        "import keras\n",
        "from keras.models import sequential\n",
        "from keras.layers import Dense"
      ],
      "metadata": {
        "id": "pOejWCj5rYQQ"
      },
      "execution_count": 9,
      "outputs": []
    },
    {
      "cell_type": "code",
      "source": [
        "from keras.engine.sequential import Sequential\n",
        "#training model\n",
        "classifier = Sequential()\n",
        "\n",
        "#adding first hidden layer and input\n",
        "classifier.add(Dense(16,activation='relu',input_dim=31))\n",
        "\n",
        "#adding second hidden layer\n",
        "classifier.add(Dense(16,activation='relu'))\n",
        "\n",
        "#adding the output layer\n",
        "classifier.add(Dense(1,activation='sigmoid'))"
      ],
      "metadata": {
        "id": "qCUMuK-ls0WI"
      },
      "execution_count": 12,
      "outputs": []
    },
    {
      "cell_type": "code",
      "source": [
        "classifier.compile(optimizer='adam',loss='binary_crossentropy',metrics=['accuracy'])"
      ],
      "metadata": {
        "id": "xQZuZKXOwZ31"
      },
      "execution_count": 13,
      "outputs": []
    },
    {
      "cell_type": "code",
      "source": [
        "classifier.fit(x=x_train,y=y_train,batch_size=120,epochs=150,validation_split=0.2)"
      ],
      "metadata": {
        "colab": {
          "base_uri": "https://localhost:8080/"
        },
        "id": "O9gi_JA2w6dx",
        "outputId": "998383bd-004d-4f22-9ac9-f5bd48127430"
      },
      "execution_count": 14,
      "outputs": [
        {
          "output_type": "stream",
          "name": "stdout",
          "text": [
            "Epoch 1/150\n",
            "4/4 [==============================] - 1s 66ms/step - loss: 0.7754 - accuracy: 0.3791 - val_loss: 0.7075 - val_accuracy: 0.5055\n",
            "Epoch 2/150\n",
            "4/4 [==============================] - 0s 11ms/step - loss: 0.7092 - accuracy: 0.5110 - val_loss: 0.6581 - val_accuracy: 0.6484\n",
            "Epoch 3/150\n",
            "4/4 [==============================] - 0s 10ms/step - loss: 0.6551 - accuracy: 0.6456 - val_loss: 0.6146 - val_accuracy: 0.7912\n",
            "Epoch 4/150\n",
            "4/4 [==============================] - 0s 9ms/step - loss: 0.6086 - accuracy: 0.7473 - val_loss: 0.5761 - val_accuracy: 0.8681\n",
            "Epoch 5/150\n",
            "4/4 [==============================] - 0s 9ms/step - loss: 0.5673 - accuracy: 0.8187 - val_loss: 0.5399 - val_accuracy: 0.8791\n",
            "Epoch 6/150\n",
            "4/4 [==============================] - 0s 9ms/step - loss: 0.5301 - accuracy: 0.8571 - val_loss: 0.5064 - val_accuracy: 0.8901\n",
            "Epoch 7/150\n",
            "4/4 [==============================] - 0s 11ms/step - loss: 0.4963 - accuracy: 0.8956 - val_loss: 0.4748 - val_accuracy: 0.9011\n",
            "Epoch 8/150\n",
            "4/4 [==============================] - 0s 11ms/step - loss: 0.4664 - accuracy: 0.9038 - val_loss: 0.4439 - val_accuracy: 0.9341\n",
            "Epoch 9/150\n",
            "4/4 [==============================] - 0s 11ms/step - loss: 0.4382 - accuracy: 0.9176 - val_loss: 0.4146 - val_accuracy: 0.9560\n",
            "Epoch 10/150\n",
            "4/4 [==============================] - 0s 10ms/step - loss: 0.4119 - accuracy: 0.9258 - val_loss: 0.3876 - val_accuracy: 0.9560\n",
            "Epoch 11/150\n",
            "4/4 [==============================] - 0s 10ms/step - loss: 0.3873 - accuracy: 0.9286 - val_loss: 0.3627 - val_accuracy: 0.9670\n",
            "Epoch 12/150\n",
            "4/4 [==============================] - 0s 10ms/step - loss: 0.3647 - accuracy: 0.9341 - val_loss: 0.3395 - val_accuracy: 0.9670\n",
            "Epoch 13/150\n",
            "4/4 [==============================] - 0s 11ms/step - loss: 0.3435 - accuracy: 0.9313 - val_loss: 0.3179 - val_accuracy: 0.9670\n",
            "Epoch 14/150\n",
            "4/4 [==============================] - 0s 10ms/step - loss: 0.3237 - accuracy: 0.9396 - val_loss: 0.2980 - val_accuracy: 0.9670\n",
            "Epoch 15/150\n",
            "4/4 [==============================] - 0s 11ms/step - loss: 0.3059 - accuracy: 0.9423 - val_loss: 0.2792 - val_accuracy: 0.9670\n",
            "Epoch 16/150\n",
            "4/4 [==============================] - 0s 9ms/step - loss: 0.2894 - accuracy: 0.9423 - val_loss: 0.2615 - val_accuracy: 0.9670\n",
            "Epoch 17/150\n",
            "4/4 [==============================] - 0s 9ms/step - loss: 0.2737 - accuracy: 0.9451 - val_loss: 0.2460 - val_accuracy: 0.9670\n",
            "Epoch 18/150\n",
            "4/4 [==============================] - 0s 10ms/step - loss: 0.2600 - accuracy: 0.9451 - val_loss: 0.2326 - val_accuracy: 0.9670\n",
            "Epoch 19/150\n",
            "4/4 [==============================] - 0s 10ms/step - loss: 0.2478 - accuracy: 0.9451 - val_loss: 0.2200 - val_accuracy: 0.9670\n",
            "Epoch 20/150\n",
            "4/4 [==============================] - 0s 11ms/step - loss: 0.2362 - accuracy: 0.9478 - val_loss: 0.2086 - val_accuracy: 0.9670\n",
            "Epoch 21/150\n",
            "4/4 [==============================] - 0s 9ms/step - loss: 0.2260 - accuracy: 0.9505 - val_loss: 0.1981 - val_accuracy: 0.9670\n",
            "Epoch 22/150\n",
            "4/4 [==============================] - 0s 11ms/step - loss: 0.2165 - accuracy: 0.9505 - val_loss: 0.1886 - val_accuracy: 0.9670\n",
            "Epoch 23/150\n",
            "4/4 [==============================] - 0s 10ms/step - loss: 0.2081 - accuracy: 0.9533 - val_loss: 0.1796 - val_accuracy: 0.9780\n",
            "Epoch 24/150\n",
            "4/4 [==============================] - 0s 13ms/step - loss: 0.2002 - accuracy: 0.9560 - val_loss: 0.1712 - val_accuracy: 0.9890\n",
            "Epoch 25/150\n",
            "4/4 [==============================] - 0s 10ms/step - loss: 0.1930 - accuracy: 0.9560 - val_loss: 0.1636 - val_accuracy: 0.9890\n",
            "Epoch 26/150\n",
            "4/4 [==============================] - 0s 11ms/step - loss: 0.1864 - accuracy: 0.9560 - val_loss: 0.1566 - val_accuracy: 0.9890\n",
            "Epoch 27/150\n",
            "4/4 [==============================] - 0s 10ms/step - loss: 0.1804 - accuracy: 0.9560 - val_loss: 0.1501 - val_accuracy: 0.9890\n",
            "Epoch 28/150\n",
            "4/4 [==============================] - 0s 9ms/step - loss: 0.1750 - accuracy: 0.9560 - val_loss: 0.1439 - val_accuracy: 0.9890\n",
            "Epoch 29/150\n",
            "4/4 [==============================] - 0s 11ms/step - loss: 0.1698 - accuracy: 0.9560 - val_loss: 0.1378 - val_accuracy: 0.9890\n",
            "Epoch 30/150\n",
            "4/4 [==============================] - 0s 14ms/step - loss: 0.1648 - accuracy: 0.9560 - val_loss: 0.1319 - val_accuracy: 0.9890\n",
            "Epoch 31/150\n",
            "4/4 [==============================] - 0s 11ms/step - loss: 0.1601 - accuracy: 0.9560 - val_loss: 0.1266 - val_accuracy: 0.9890\n",
            "Epoch 32/150\n",
            "4/4 [==============================] - 0s 10ms/step - loss: 0.1557 - accuracy: 0.9560 - val_loss: 0.1215 - val_accuracy: 0.9890\n",
            "Epoch 33/150\n",
            "4/4 [==============================] - 0s 10ms/step - loss: 0.1515 - accuracy: 0.9588 - val_loss: 0.1169 - val_accuracy: 0.9890\n",
            "Epoch 34/150\n",
            "4/4 [==============================] - 0s 10ms/step - loss: 0.1477 - accuracy: 0.9588 - val_loss: 0.1127 - val_accuracy: 0.9890\n",
            "Epoch 35/150\n",
            "4/4 [==============================] - 0s 11ms/step - loss: 0.1441 - accuracy: 0.9588 - val_loss: 0.1087 - val_accuracy: 0.9890\n",
            "Epoch 36/150\n",
            "4/4 [==============================] - 0s 11ms/step - loss: 0.1408 - accuracy: 0.9588 - val_loss: 0.1051 - val_accuracy: 0.9890\n",
            "Epoch 37/150\n",
            "4/4 [==============================] - 0s 17ms/step - loss: 0.1377 - accuracy: 0.9588 - val_loss: 0.1018 - val_accuracy: 0.9890\n",
            "Epoch 38/150\n",
            "4/4 [==============================] - 0s 9ms/step - loss: 0.1351 - accuracy: 0.9643 - val_loss: 0.0990 - val_accuracy: 1.0000\n",
            "Epoch 39/150\n",
            "4/4 [==============================] - 0s 10ms/step - loss: 0.1325 - accuracy: 0.9670 - val_loss: 0.0963 - val_accuracy: 1.0000\n",
            "Epoch 40/150\n",
            "4/4 [==============================] - 0s 14ms/step - loss: 0.1299 - accuracy: 0.9670 - val_loss: 0.0934 - val_accuracy: 1.0000\n",
            "Epoch 41/150\n",
            "4/4 [==============================] - 0s 10ms/step - loss: 0.1273 - accuracy: 0.9670 - val_loss: 0.0904 - val_accuracy: 1.0000\n",
            "Epoch 42/150\n",
            "4/4 [==============================] - 0s 9ms/step - loss: 0.1249 - accuracy: 0.9670 - val_loss: 0.0876 - val_accuracy: 1.0000\n",
            "Epoch 43/150\n",
            "4/4 [==============================] - 0s 11ms/step - loss: 0.1226 - accuracy: 0.9670 - val_loss: 0.0850 - val_accuracy: 1.0000\n",
            "Epoch 44/150\n",
            "4/4 [==============================] - 0s 11ms/step - loss: 0.1203 - accuracy: 0.9670 - val_loss: 0.0826 - val_accuracy: 1.0000\n",
            "Epoch 45/150\n",
            "4/4 [==============================] - 0s 9ms/step - loss: 0.1183 - accuracy: 0.9698 - val_loss: 0.0802 - val_accuracy: 1.0000\n",
            "Epoch 46/150\n",
            "4/4 [==============================] - 0s 10ms/step - loss: 0.1165 - accuracy: 0.9698 - val_loss: 0.0781 - val_accuracy: 1.0000\n",
            "Epoch 47/150\n",
            "4/4 [==============================] - 0s 10ms/step - loss: 0.1148 - accuracy: 0.9698 - val_loss: 0.0762 - val_accuracy: 1.0000\n",
            "Epoch 48/150\n",
            "4/4 [==============================] - 0s 10ms/step - loss: 0.1131 - accuracy: 0.9698 - val_loss: 0.0745 - val_accuracy: 1.0000\n",
            "Epoch 49/150\n",
            "4/4 [==============================] - 0s 10ms/step - loss: 0.1114 - accuracy: 0.9725 - val_loss: 0.0729 - val_accuracy: 1.0000\n",
            "Epoch 50/150\n",
            "4/4 [==============================] - 0s 12ms/step - loss: 0.1097 - accuracy: 0.9725 - val_loss: 0.0714 - val_accuracy: 1.0000\n",
            "Epoch 51/150\n",
            "4/4 [==============================] - 0s 10ms/step - loss: 0.1080 - accuracy: 0.9753 - val_loss: 0.0701 - val_accuracy: 1.0000\n",
            "Epoch 52/150\n",
            "4/4 [==============================] - 0s 11ms/step - loss: 0.1064 - accuracy: 0.9753 - val_loss: 0.0690 - val_accuracy: 1.0000\n",
            "Epoch 53/150\n",
            "4/4 [==============================] - 0s 9ms/step - loss: 0.1048 - accuracy: 0.9753 - val_loss: 0.0678 - val_accuracy: 1.0000\n",
            "Epoch 54/150\n",
            "4/4 [==============================] - 0s 10ms/step - loss: 0.1034 - accuracy: 0.9753 - val_loss: 0.0664 - val_accuracy: 1.0000\n",
            "Epoch 55/150\n",
            "4/4 [==============================] - 0s 11ms/step - loss: 0.1018 - accuracy: 0.9753 - val_loss: 0.0651 - val_accuracy: 1.0000\n",
            "Epoch 56/150\n",
            "4/4 [==============================] - 0s 10ms/step - loss: 0.1005 - accuracy: 0.9753 - val_loss: 0.0639 - val_accuracy: 1.0000\n",
            "Epoch 57/150\n",
            "4/4 [==============================] - 0s 10ms/step - loss: 0.0992 - accuracy: 0.9753 - val_loss: 0.0630 - val_accuracy: 1.0000\n",
            "Epoch 58/150\n",
            "4/4 [==============================] - 0s 13ms/step - loss: 0.0982 - accuracy: 0.9753 - val_loss: 0.0628 - val_accuracy: 1.0000\n",
            "Epoch 59/150\n",
            "4/4 [==============================] - 0s 11ms/step - loss: 0.0969 - accuracy: 0.9753 - val_loss: 0.0624 - val_accuracy: 1.0000\n",
            "Epoch 60/150\n",
            "4/4 [==============================] - 0s 11ms/step - loss: 0.0957 - accuracy: 0.9753 - val_loss: 0.0618 - val_accuracy: 1.0000\n",
            "Epoch 61/150\n",
            "4/4 [==============================] - 0s 12ms/step - loss: 0.0947 - accuracy: 0.9753 - val_loss: 0.0611 - val_accuracy: 1.0000\n",
            "Epoch 62/150\n",
            "4/4 [==============================] - 0s 11ms/step - loss: 0.0936 - accuracy: 0.9780 - val_loss: 0.0603 - val_accuracy: 1.0000\n",
            "Epoch 63/150\n",
            "4/4 [==============================] - 0s 11ms/step - loss: 0.0927 - accuracy: 0.9780 - val_loss: 0.0595 - val_accuracy: 1.0000\n",
            "Epoch 64/150\n",
            "4/4 [==============================] - 0s 14ms/step - loss: 0.0916 - accuracy: 0.9780 - val_loss: 0.0587 - val_accuracy: 1.0000\n",
            "Epoch 65/150\n",
            "4/4 [==============================] - 0s 10ms/step - loss: 0.0907 - accuracy: 0.9780 - val_loss: 0.0578 - val_accuracy: 1.0000\n",
            "Epoch 66/150\n",
            "4/4 [==============================] - 0s 11ms/step - loss: 0.0896 - accuracy: 0.9780 - val_loss: 0.0566 - val_accuracy: 1.0000\n",
            "Epoch 67/150\n",
            "4/4 [==============================] - 0s 10ms/step - loss: 0.0886 - accuracy: 0.9780 - val_loss: 0.0552 - val_accuracy: 1.0000\n",
            "Epoch 68/150\n",
            "4/4 [==============================] - 0s 10ms/step - loss: 0.0877 - accuracy: 0.9780 - val_loss: 0.0539 - val_accuracy: 1.0000\n",
            "Epoch 69/150\n",
            "4/4 [==============================] - 0s 10ms/step - loss: 0.0868 - accuracy: 0.9780 - val_loss: 0.0526 - val_accuracy: 1.0000\n",
            "Epoch 70/150\n",
            "4/4 [==============================] - 0s 10ms/step - loss: 0.0861 - accuracy: 0.9780 - val_loss: 0.0515 - val_accuracy: 1.0000\n",
            "Epoch 71/150\n",
            "4/4 [==============================] - 0s 12ms/step - loss: 0.0852 - accuracy: 0.9780 - val_loss: 0.0506 - val_accuracy: 1.0000\n",
            "Epoch 72/150\n",
            "4/4 [==============================] - 0s 10ms/step - loss: 0.0844 - accuracy: 0.9780 - val_loss: 0.0502 - val_accuracy: 1.0000\n",
            "Epoch 73/150\n",
            "4/4 [==============================] - 0s 10ms/step - loss: 0.0835 - accuracy: 0.9780 - val_loss: 0.0510 - val_accuracy: 1.0000\n",
            "Epoch 74/150\n",
            "4/4 [==============================] - 0s 10ms/step - loss: 0.0827 - accuracy: 0.9780 - val_loss: 0.0513 - val_accuracy: 1.0000\n",
            "Epoch 75/150\n",
            "4/4 [==============================] - 0s 11ms/step - loss: 0.0819 - accuracy: 0.9808 - val_loss: 0.0513 - val_accuracy: 1.0000\n",
            "Epoch 76/150\n",
            "4/4 [==============================] - 0s 11ms/step - loss: 0.0812 - accuracy: 0.9808 - val_loss: 0.0512 - val_accuracy: 1.0000\n",
            "Epoch 77/150\n",
            "4/4 [==============================] - 0s 9ms/step - loss: 0.0804 - accuracy: 0.9808 - val_loss: 0.0510 - val_accuracy: 1.0000\n",
            "Epoch 78/150\n",
            "4/4 [==============================] - 0s 12ms/step - loss: 0.0796 - accuracy: 0.9808 - val_loss: 0.0506 - val_accuracy: 1.0000\n",
            "Epoch 79/150\n",
            "4/4 [==============================] - 0s 10ms/step - loss: 0.0790 - accuracy: 0.9808 - val_loss: 0.0503 - val_accuracy: 1.0000\n",
            "Epoch 80/150\n",
            "4/4 [==============================] - 0s 13ms/step - loss: 0.0783 - accuracy: 0.9808 - val_loss: 0.0497 - val_accuracy: 1.0000\n",
            "Epoch 81/150\n",
            "4/4 [==============================] - 0s 11ms/step - loss: 0.0775 - accuracy: 0.9808 - val_loss: 0.0492 - val_accuracy: 1.0000\n",
            "Epoch 82/150\n",
            "4/4 [==============================] - 0s 11ms/step - loss: 0.0769 - accuracy: 0.9808 - val_loss: 0.0486 - val_accuracy: 1.0000\n",
            "Epoch 83/150\n",
            "4/4 [==============================] - 0s 16ms/step - loss: 0.0762 - accuracy: 0.9808 - val_loss: 0.0481 - val_accuracy: 1.0000\n",
            "Epoch 84/150\n",
            "4/4 [==============================] - 0s 12ms/step - loss: 0.0753 - accuracy: 0.9808 - val_loss: 0.0476 - val_accuracy: 1.0000\n",
            "Epoch 85/150\n",
            "4/4 [==============================] - 0s 12ms/step - loss: 0.0746 - accuracy: 0.9808 - val_loss: 0.0471 - val_accuracy: 1.0000\n",
            "Epoch 86/150\n",
            "4/4 [==============================] - 0s 18ms/step - loss: 0.0739 - accuracy: 0.9808 - val_loss: 0.0466 - val_accuracy: 1.0000\n",
            "Epoch 87/150\n",
            "4/4 [==============================] - 0s 19ms/step - loss: 0.0733 - accuracy: 0.9808 - val_loss: 0.0462 - val_accuracy: 1.0000\n",
            "Epoch 88/150\n",
            "4/4 [==============================] - 0s 10ms/step - loss: 0.0727 - accuracy: 0.9808 - val_loss: 0.0458 - val_accuracy: 1.0000\n",
            "Epoch 89/150\n",
            "4/4 [==============================] - 0s 9ms/step - loss: 0.0722 - accuracy: 0.9808 - val_loss: 0.0454 - val_accuracy: 1.0000\n",
            "Epoch 90/150\n",
            "4/4 [==============================] - 0s 10ms/step - loss: 0.0717 - accuracy: 0.9808 - val_loss: 0.0451 - val_accuracy: 1.0000\n",
            "Epoch 91/150\n",
            "4/4 [==============================] - 0s 10ms/step - loss: 0.0711 - accuracy: 0.9808 - val_loss: 0.0448 - val_accuracy: 1.0000\n",
            "Epoch 92/150\n",
            "4/4 [==============================] - 0s 10ms/step - loss: 0.0707 - accuracy: 0.9808 - val_loss: 0.0446 - val_accuracy: 1.0000\n",
            "Epoch 93/150\n",
            "4/4 [==============================] - 0s 10ms/step - loss: 0.0702 - accuracy: 0.9808 - val_loss: 0.0443 - val_accuracy: 1.0000\n",
            "Epoch 94/150\n",
            "4/4 [==============================] - 0s 13ms/step - loss: 0.0697 - accuracy: 0.9808 - val_loss: 0.0439 - val_accuracy: 1.0000\n",
            "Epoch 95/150\n",
            "4/4 [==============================] - 0s 16ms/step - loss: 0.0693 - accuracy: 0.9808 - val_loss: 0.0434 - val_accuracy: 1.0000\n",
            "Epoch 96/150\n",
            "4/4 [==============================] - 0s 11ms/step - loss: 0.0686 - accuracy: 0.9808 - val_loss: 0.0430 - val_accuracy: 1.0000\n",
            "Epoch 97/150\n",
            "4/4 [==============================] - 0s 11ms/step - loss: 0.0682 - accuracy: 0.9808 - val_loss: 0.0430 - val_accuracy: 1.0000\n",
            "Epoch 98/150\n",
            "4/4 [==============================] - 0s 10ms/step - loss: 0.0676 - accuracy: 0.9808 - val_loss: 0.0429 - val_accuracy: 1.0000\n",
            "Epoch 99/150\n",
            "4/4 [==============================] - 0s 10ms/step - loss: 0.0672 - accuracy: 0.9808 - val_loss: 0.0431 - val_accuracy: 1.0000\n",
            "Epoch 100/150\n",
            "4/4 [==============================] - 0s 10ms/step - loss: 0.0667 - accuracy: 0.9808 - val_loss: 0.0444 - val_accuracy: 1.0000\n",
            "Epoch 101/150\n",
            "4/4 [==============================] - 0s 10ms/step - loss: 0.0663 - accuracy: 0.9808 - val_loss: 0.0450 - val_accuracy: 1.0000\n",
            "Epoch 102/150\n",
            "4/4 [==============================] - 0s 10ms/step - loss: 0.0657 - accuracy: 0.9808 - val_loss: 0.0452 - val_accuracy: 1.0000\n",
            "Epoch 103/150\n",
            "4/4 [==============================] - 0s 11ms/step - loss: 0.0652 - accuracy: 0.9808 - val_loss: 0.0451 - val_accuracy: 1.0000\n",
            "Epoch 104/150\n",
            "4/4 [==============================] - 0s 11ms/step - loss: 0.0647 - accuracy: 0.9808 - val_loss: 0.0448 - val_accuracy: 1.0000\n",
            "Epoch 105/150\n",
            "4/4 [==============================] - 0s 12ms/step - loss: 0.0641 - accuracy: 0.9808 - val_loss: 0.0445 - val_accuracy: 1.0000\n",
            "Epoch 106/150\n",
            "4/4 [==============================] - 0s 18ms/step - loss: 0.0637 - accuracy: 0.9808 - val_loss: 0.0443 - val_accuracy: 1.0000\n",
            "Epoch 107/150\n",
            "4/4 [==============================] - 0s 10ms/step - loss: 0.0633 - accuracy: 0.9808 - val_loss: 0.0444 - val_accuracy: 1.0000\n",
            "Epoch 108/150\n",
            "4/4 [==============================] - 0s 10ms/step - loss: 0.0630 - accuracy: 0.9808 - val_loss: 0.0444 - val_accuracy: 1.0000\n",
            "Epoch 109/150\n",
            "4/4 [==============================] - 0s 10ms/step - loss: 0.0626 - accuracy: 0.9808 - val_loss: 0.0442 - val_accuracy: 1.0000\n",
            "Epoch 110/150\n",
            "4/4 [==============================] - 0s 15ms/step - loss: 0.0622 - accuracy: 0.9808 - val_loss: 0.0440 - val_accuracy: 1.0000\n",
            "Epoch 111/150\n",
            "4/4 [==============================] - 0s 10ms/step - loss: 0.0619 - accuracy: 0.9808 - val_loss: 0.0437 - val_accuracy: 1.0000\n",
            "Epoch 112/150\n",
            "4/4 [==============================] - 0s 10ms/step - loss: 0.0615 - accuracy: 0.9808 - val_loss: 0.0434 - val_accuracy: 1.0000\n",
            "Epoch 113/150\n",
            "4/4 [==============================] - 0s 10ms/step - loss: 0.0612 - accuracy: 0.9835 - val_loss: 0.0429 - val_accuracy: 1.0000\n",
            "Epoch 114/150\n",
            "4/4 [==============================] - 0s 14ms/step - loss: 0.0608 - accuracy: 0.9835 - val_loss: 0.0425 - val_accuracy: 1.0000\n",
            "Epoch 115/150\n",
            "4/4 [==============================] - 0s 10ms/step - loss: 0.0605 - accuracy: 0.9835 - val_loss: 0.0420 - val_accuracy: 1.0000\n",
            "Epoch 116/150\n",
            "4/4 [==============================] - 0s 10ms/step - loss: 0.0602 - accuracy: 0.9835 - val_loss: 0.0415 - val_accuracy: 1.0000\n",
            "Epoch 117/150\n",
            "4/4 [==============================] - 0s 11ms/step - loss: 0.0598 - accuracy: 0.9835 - val_loss: 0.0417 - val_accuracy: 1.0000\n",
            "Epoch 118/150\n",
            "4/4 [==============================] - 0s 11ms/step - loss: 0.0598 - accuracy: 0.9835 - val_loss: 0.0431 - val_accuracy: 1.0000\n",
            "Epoch 119/150\n",
            "4/4 [==============================] - 0s 11ms/step - loss: 0.0594 - accuracy: 0.9835 - val_loss: 0.0440 - val_accuracy: 0.9890\n",
            "Epoch 120/150\n",
            "4/4 [==============================] - 0s 10ms/step - loss: 0.0596 - accuracy: 0.9835 - val_loss: 0.0445 - val_accuracy: 0.9890\n",
            "Epoch 121/150\n",
            "4/4 [==============================] - 0s 11ms/step - loss: 0.0594 - accuracy: 0.9835 - val_loss: 0.0446 - val_accuracy: 0.9890\n",
            "Epoch 122/150\n",
            "4/4 [==============================] - 0s 11ms/step - loss: 0.0593 - accuracy: 0.9835 - val_loss: 0.0448 - val_accuracy: 0.9890\n",
            "Epoch 123/150\n",
            "4/4 [==============================] - 0s 11ms/step - loss: 0.0589 - accuracy: 0.9835 - val_loss: 0.0445 - val_accuracy: 0.9890\n",
            "Epoch 124/150\n",
            "4/4 [==============================] - 0s 10ms/step - loss: 0.0586 - accuracy: 0.9835 - val_loss: 0.0438 - val_accuracy: 0.9890\n",
            "Epoch 125/150\n",
            "4/4 [==============================] - 0s 12ms/step - loss: 0.0580 - accuracy: 0.9835 - val_loss: 0.0428 - val_accuracy: 1.0000\n",
            "Epoch 126/150\n",
            "4/4 [==============================] - 0s 11ms/step - loss: 0.0575 - accuracy: 0.9835 - val_loss: 0.0416 - val_accuracy: 1.0000\n",
            "Epoch 127/150\n",
            "4/4 [==============================] - 0s 12ms/step - loss: 0.0570 - accuracy: 0.9835 - val_loss: 0.0407 - val_accuracy: 1.0000\n",
            "Epoch 128/150\n",
            "4/4 [==============================] - 0s 16ms/step - loss: 0.0566 - accuracy: 0.9835 - val_loss: 0.0404 - val_accuracy: 1.0000\n",
            "Epoch 129/150\n",
            "4/4 [==============================] - 0s 11ms/step - loss: 0.0563 - accuracy: 0.9835 - val_loss: 0.0404 - val_accuracy: 1.0000\n",
            "Epoch 130/150\n",
            "4/4 [==============================] - 0s 12ms/step - loss: 0.0560 - accuracy: 0.9835 - val_loss: 0.0404 - val_accuracy: 1.0000\n",
            "Epoch 131/150\n",
            "4/4 [==============================] - 0s 11ms/step - loss: 0.0558 - accuracy: 0.9835 - val_loss: 0.0401 - val_accuracy: 1.0000\n",
            "Epoch 132/150\n",
            "4/4 [==============================] - 0s 12ms/step - loss: 0.0555 - accuracy: 0.9835 - val_loss: 0.0393 - val_accuracy: 1.0000\n",
            "Epoch 133/150\n",
            "4/4 [==============================] - 0s 11ms/step - loss: 0.0552 - accuracy: 0.9835 - val_loss: 0.0383 - val_accuracy: 1.0000\n",
            "Epoch 134/150\n",
            "4/4 [==============================] - 0s 13ms/step - loss: 0.0549 - accuracy: 0.9835 - val_loss: 0.0375 - val_accuracy: 1.0000\n",
            "Epoch 135/150\n",
            "4/4 [==============================] - 0s 10ms/step - loss: 0.0547 - accuracy: 0.9835 - val_loss: 0.0368 - val_accuracy: 1.0000\n",
            "Epoch 136/150\n",
            "4/4 [==============================] - 0s 10ms/step - loss: 0.0545 - accuracy: 0.9835 - val_loss: 0.0363 - val_accuracy: 1.0000\n",
            "Epoch 137/150\n",
            "4/4 [==============================] - 0s 11ms/step - loss: 0.0543 - accuracy: 0.9835 - val_loss: 0.0360 - val_accuracy: 1.0000\n",
            "Epoch 138/150\n",
            "4/4 [==============================] - 0s 11ms/step - loss: 0.0541 - accuracy: 0.9835 - val_loss: 0.0357 - val_accuracy: 1.0000\n",
            "Epoch 139/150\n",
            "4/4 [==============================] - 0s 10ms/step - loss: 0.0538 - accuracy: 0.9835 - val_loss: 0.0356 - val_accuracy: 1.0000\n",
            "Epoch 140/150\n",
            "4/4 [==============================] - 0s 12ms/step - loss: 0.0536 - accuracy: 0.9835 - val_loss: 0.0355 - val_accuracy: 1.0000\n",
            "Epoch 141/150\n",
            "4/4 [==============================] - 0s 14ms/step - loss: 0.0534 - accuracy: 0.9835 - val_loss: 0.0354 - val_accuracy: 1.0000\n",
            "Epoch 142/150\n",
            "4/4 [==============================] - 0s 10ms/step - loss: 0.0532 - accuracy: 0.9835 - val_loss: 0.0353 - val_accuracy: 1.0000\n",
            "Epoch 143/150\n",
            "4/4 [==============================] - 0s 10ms/step - loss: 0.0529 - accuracy: 0.9835 - val_loss: 0.0351 - val_accuracy: 1.0000\n",
            "Epoch 144/150\n",
            "4/4 [==============================] - 0s 10ms/step - loss: 0.0527 - accuracy: 0.9835 - val_loss: 0.0349 - val_accuracy: 1.0000\n",
            "Epoch 145/150\n",
            "4/4 [==============================] - 0s 10ms/step - loss: 0.0525 - accuracy: 0.9863 - val_loss: 0.0347 - val_accuracy: 1.0000\n",
            "Epoch 146/150\n",
            "4/4 [==============================] - 0s 13ms/step - loss: 0.0522 - accuracy: 0.9863 - val_loss: 0.0345 - val_accuracy: 1.0000\n",
            "Epoch 147/150\n",
            "4/4 [==============================] - 0s 10ms/step - loss: 0.0521 - accuracy: 0.9863 - val_loss: 0.0345 - val_accuracy: 1.0000\n",
            "Epoch 148/150\n",
            "4/4 [==============================] - 0s 10ms/step - loss: 0.0519 - accuracy: 0.9863 - val_loss: 0.0347 - val_accuracy: 1.0000\n",
            "Epoch 149/150\n",
            "4/4 [==============================] - 0s 9ms/step - loss: 0.0517 - accuracy: 0.9863 - val_loss: 0.0353 - val_accuracy: 1.0000\n",
            "Epoch 150/150\n",
            "4/4 [==============================] - 0s 9ms/step - loss: 0.0514 - accuracy: 0.9863 - val_loss: 0.0356 - val_accuracy: 1.0000\n"
          ]
        },
        {
          "output_type": "execute_result",
          "data": {
            "text/plain": [
              "<keras.callbacks.History at 0x7f0971010c50>"
            ]
          },
          "metadata": {},
          "execution_count": 14
        }
      ]
    },
    {
      "cell_type": "code",
      "source": [
        "y_pred = classifier.predict(x_test)\n",
        "y_pred =(y_pred > 0.5)"
      ],
      "metadata": {
        "id": "CztpCLJFgaKT"
      },
      "execution_count": 17,
      "outputs": []
    },
    {
      "cell_type": "code",
      "source": [
        "from sklearn.metrics import confusion_matrix\n",
        "cm = confusion_matrix(y_test,y_pred)\n",
        "cm"
      ],
      "metadata": {
        "colab": {
          "base_uri": "https://localhost:8080/"
        },
        "id": "F1--4xKvhAAn",
        "outputId": "778c2428-282c-4bea-d27f-5a3888da2ae3"
      },
      "execution_count": 18,
      "outputs": [
        {
          "output_type": "execute_result",
          "data": {
            "text/plain": [
              "array([[63,  0],\n",
              "       [ 8, 43]])"
            ]
          },
          "metadata": {},
          "execution_count": 18
        }
      ]
    },
    {
      "cell_type": "code",
      "source": [
        "sns.heatmap(cm,annot=True)\n"
      ],
      "metadata": {
        "colab": {
          "base_uri": "https://localhost:8080/",
          "height": 282
        },
        "id": "yP306SKnhViN",
        "outputId": "d23ca8a6-43aa-418b-a66d-d90e61788734"
      },
      "execution_count": 19,
      "outputs": [
        {
          "output_type": "execute_result",
          "data": {
            "text/plain": [
              "<matplotlib.axes._subplots.AxesSubplot at 0x7f0970f75650>"
            ]
          },
          "metadata": {},
          "execution_count": 19
        },
        {
          "output_type": "display_data",
          "data": {
            "image/png": "[encoded data removed]",
            "text/plain": [
              "<Figure size 432x288 with 2 Axes>"
            ]
          },
          "metadata": {
            "needs_background": "light"
          }
        }
      ]
    }
  ]
}