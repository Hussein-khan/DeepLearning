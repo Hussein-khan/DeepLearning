{
  "cells": [
    {
      "cell_type": "markdown",
      "metadata": {
        "id": "FjuaGWmsfQY8"
      },
      "source": [
        "# Artificial Neural Network\n",
        "## Multi Classification"
      ]
    },
    {
      "cell_type": "code",
      "execution_count": 79,
      "metadata": {
        "id": "BU7w4zf_fHCD"
      },
      "outputs": [],
      "source": [
        "#importing dependencies\n",
        "import pandas as pd \n",
        "import numpy as np\n",
        "from sklearn.datasets import load_iris"
      ]
    },
    {
      "cell_type": "code",
      "execution_count": 80,
      "metadata": {
        "id": "KDGvR3Gfs-q9"
      },
      "outputs": [],
      "source": [
        "#loading dataset into dataframe\n",
        "df = load_iris()"
      ]
    },
    {
      "cell_type": "code",
      "execution_count": 81,
      "metadata": {
        "id": "2B8MxTYJtZML"
      },
      "outputs": [],
      "source": [
        "#spliting data \n",
        "x = df.data\n",
        "y = df.target"
      ]
    },
    {
      "cell_type": "code",
      "execution_count": 76,
      "metadata": {
        "colab": {
          "base_uri": "https://localhost:8080/"
        },
        "id": "oKMlWftjuGWT",
        "outputId": "5da34655-3219-4250-a6e7-cdc2d0f861e6"
      },
      "outputs": [
        {
          "name": "stdout",
          "output_type": "stream",
          "text": [
            "(150, 4)\n",
            "(150,)\n"
          ]
        }
      ],
      "source": [
        "print(x.shape)\n",
        "print(y.shape)"
      ]
    },
    {
      "cell_type": "code",
      "execution_count": 82,
      "metadata": {
        "id": "gpe-Qzr0tkV_"
      },
      "outputs": [],
      "source": [
        "#encoding label\n",
        "from sklearn.preprocessing import LabelEncoder\n",
        "label = LabelEncoder()\n",
        "y1 = label.fit_transform(y)\n",
        "y = pd.get_dummies(y1).values"
      ]
    },
    {
      "cell_type": "code",
      "execution_count": 83,
      "metadata": {
        "id": "JGi5-_sjt25G"
      },
      "outputs": [],
      "source": [
        "#spliting data into training and testing\n",
        "from sklearn.model_selection import train_test_split\n",
        "x_train,x_test,y_train,y_test = train_test_split(x,y,test_size=0.2)"
      ]
    },
    {
      "cell_type": "code",
      "execution_count": 86,
      "metadata": {
        "id": "kbja0IdWt5iQ"
      },
      "outputs": [],
      "source": [
        "#scaling data\n",
        "from sklearn.preprocessing import StandardScaler\n",
        "sc = StandardScaler()\n",
        "x_train = sc.fit_transform(x_train)\n",
        "x_test = sc.fit_transform(x_test)"
      ]
    },
    {
      "cell_type": "code",
      "execution_count": 87,
      "metadata": {
        "colab": {
          "base_uri": "https://localhost:8080/"
        },
        "id": "HpZjIJmDxLuh",
        "outputId": "2a6c515d-8458-4c7e-c863-7e44c1d114a5"
      },
      "outputs": [
        {
          "name": "stdout",
          "output_type": "stream",
          "text": [
            "(120, 4)\n",
            "(120, 3)\n"
          ]
        }
      ],
      "source": [
        "print(x_train.shape)\n",
        "print(y_train.shape)"
      ]
    },
    {
      "cell_type": "code",
      "execution_count": 88,
      "metadata": {
        "id": "vrAhLxuet89S"
      },
      "outputs": [],
      "source": [
        "#import model platform \n",
        "import keras\n",
        "from keras.models import sequential\n",
        "from keras.layers import Dense"
      ]
    },
    {
      "cell_type": "code",
      "execution_count": 89,
      "metadata": {
        "id": "0GKtbvivuAOm"
      },
      "outputs": [],
      "source": [
        "from keras.engine.sequential import Sequential\n",
        "#training model\n",
        "classifier = Sequential()\n",
        "\n",
        "#adding first hidden layer and input\n",
        "classifier.add(Dense(4,input_shape=(4,),activation='relu'))\n",
        "\n",
        "#adding the output layer\n",
        "classifier.add(Dense(3,activation='softmax'))"
      ]
    },
    {
      "cell_type": "code",
      "execution_count": 90,
      "metadata": {
        "id": "yM-ZuIUbu2Ug"
      },
      "outputs": [],
      "source": [
        "classifier.compile(optimizer='adam',loss='categorical_crossentropy',metrics=['accuracy'])"
      ]
    },
    {
      "cell_type": "code",
      "execution_count": 91,
      "metadata": {
        "colab": {
          "base_uri": "https://localhost:8080/"
        },
        "id": "wl_BZWW3xyb-",
        "outputId": "46d528db-ff63-4a8b-9b55-4e4d9c5d509c"
      },
      "outputs": [
        {
          "name": "stdout",
          "output_type": "stream",
          "text": [
            "(120, 4)\n",
            "(120, 3)\n"
          ]
        }
      ],
      "source": [
        "print(x_train.shape)\n",
        "print(y_train.shape)"
      ]
    },
    {
      "cell_type": "code",
      "execution_count": null,
      "metadata": {
        "colab": {
          "base_uri": "https://localhost:8080/"
        },
        "id": "cooDsYacvC_Y",
        "outputId": "6a17bfa0-d515-4a89-ac53-2b22b6f22799"
      },
      "outputs": [],
      "source": [
        "classifier.fit(x=x_train,y=y_train,batch_size=10,epochs=10)"
      ]
    },
    {
      "cell_type": "code",
      "execution_count": 99,
      "metadata": {
        "id": "jZoPry5B21pq"
      },
      "outputs": [],
      "source": [
        "#prediction \n",
        "y_pred = classifier.predict(x_test)\n",
        "y_test_class = np.argmax(y_test,axis=1)\n",
        "y_pred_class = np.argmax(y_pred,axis=1)"
      ]
    },
    {
      "cell_type": "code",
      "execution_count": 100,
      "metadata": {
        "colab": {
          "base_uri": "https://localhost:8080/"
        },
        "id": "SSJ-Bc6K4UCy",
        "outputId": "51421f6c-8b98-4bb2-d4fb-866633c88c0c"
      },
      "outputs": [
        {
          "name": "stdout",
          "output_type": "stream",
          "text": [
            "              precision    recall  f1-score   support\n",
            "\n",
            "           0       1.00      0.92      0.96        13\n",
            "           1       0.64      0.78      0.70         9\n",
            "           2       0.57      0.50      0.53         8\n",
            "\n",
            "    accuracy                           0.77        30\n",
            "   macro avg       0.74      0.73      0.73        30\n",
            "weighted avg       0.78      0.77      0.77        30\n",
            "\n",
            "[[12  0  1]\n",
            " [ 0  7  2]\n",
            " [ 0  4  4]]\n"
          ]
        }
      ],
      "source": [
        "from sklearn.metrics import confusion_matrix,classification_report\n",
        "print(classification_report(y_test_class,y_pred_class))\n",
        "print(confusion_matrix(y_test_class,y_pred_class))"
      ]
    },
    {
      "cell_type": "code",
      "execution_count": 102,
      "metadata": {
        "colab": {
          "base_uri": "https://localhost:8080/"
        },
        "id": "aCl8Ueon9ge1",
        "outputId": "0e01ff0e-018a-449d-a999-82c9ca728630"
      },
      "outputs": [
        {
          "data": {
            "text/plain": [
              "0.7666666666666667"
            ]
          },
          "execution_count": 102,
          "metadata": {},
          "output_type": "execute_result"
        }
      ],
      "source": [
        "(12+7+4)/30"
      ]
    }
  ],
  "metadata": {
    "colab": {
      "collapsed_sections": [],
      "name": "ANN_MultiClassification.ipynb",
      "provenance": []
    },
    "kernelspec": {
      "display_name": "Python 3",
      "name": "python3"
    },
    "language_info": {
      "name": "python"
    }
  },
  "nbformat": 4,
  "nbformat_minor": 0
}
