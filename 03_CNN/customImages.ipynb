{
 "cells": [
  {
   "cell_type": "markdown",
   "metadata": {},
   "source": [
    "# CNN with Tensorflow and Keras"
   ]
  },
  {
   "cell_type": "markdown",
   "metadata": {},
   "source": [
    "### Step 1-Importing Dependencies"
   ]
  },
  {
   "cell_type": "code",
   "execution_count": 8,
   "metadata": {},
   "outputs": [],
   "source": [
    "import tensorflow as tf\n",
    "import os"
   ]
  },
  {
   "cell_type": "code",
   "execution_count": 10,
   "metadata": {},
   "outputs": [],
   "source": [
    "gpus = tf.config.experimental.list_physical_devices('GPU')\n",
    "for gpu in gpus:\n",
    "    tf.config.experimental.set_memory_growth(gpu,True)"
   ]
  },
  {
   "cell_type": "markdown",
   "metadata": {},
   "source": [
    "### Step -2Building Model"
   ]
  },
  {
   "cell_type": "code",
   "execution_count": 11,
   "metadata": {},
   "outputs": [],
   "source": [
    "# Dependencies\n",
    "from tensorflow.keras.models import Sequential\n",
    "from tensorflow.keras.layers import Conv2D,Dense,Flatten,MaxPooling2D"
   ]
  },
  {
   "cell_type": "code",
   "execution_count": 12,
   "metadata": {},
   "outputs": [],
   "source": [
    "# Defining Network\n",
    "model = Sequential()"
   ]
  },
  {
   "cell_type": "code",
   "execution_count": 13,
   "metadata": {},
   "outputs": [],
   "source": [
    "# creating layers\n",
    "model.add(Conv2D(16,1,activation='relu',input_shape=(256,256,3)))\n",
    "model.add(MaxPooling2D())\n",
    "\n",
    "model.add(Conv2D(30,1,activation='relu'))\n",
    "model.add(MaxPooling2D())\n",
    "\n",
    "model.add(Conv2D(20,1,activation='relu'))\n",
    "model.add(MaxPooling2D())\n",
    "\n",
    "model.add(Flatten())\n",
    "model.add(Dense(250,activation='relu'))\n",
    "model.add(Dense(1,activation='sigmoid'))"
   ]
  },
  {
   "cell_type": "code",
   "execution_count": 19,
   "metadata": {},
   "outputs": [],
   "source": [
    "# compiling miodel\n",
    "model.compile('adam',loss=tf.losses.BinaryCrossentropy(),metrics=['accuracy'])"
   ]
  },
  {
   "cell_type": "code",
   "execution_count": 22,
   "metadata": {},
   "outputs": [
    {
     "name": "stdout",
     "output_type": "stream",
     "text": [
      "Found 323 images belonging to 2 classes.\n",
      "Found 187 images belonging to 2 classes.\n"
     ]
    },
    {
     "name": "stderr",
     "output_type": "stream",
     "text": [
      "C:\\Users\\Muhammad\\AppData\\Local\\Temp\\ipykernel_13544\\2593793272.py:22: UserWarning: `Model.fit_generator` is deprecated and will be removed in a future version. Please use `Model.fit`, which supports generators.\n",
      "  hist = model.fit_generator(\n"
     ]
    },
    {
     "name": "stdout",
     "output_type": "stream",
     "text": [
      "Epoch 1/50\n",
      "11/11 [==============================] - 28s 3s/step - loss: 0.6483 - accuracy: 0.6099\n",
      "Epoch 2/50\n",
      "11/11 [==============================] - 24s 2s/step - loss: 0.6399 - accuracy: 0.6347\n",
      "Epoch 3/50\n",
      "11/11 [==============================] - 24s 2s/step - loss: 0.6075 - accuracy: 0.7090\n",
      "Epoch 4/50\n",
      "11/11 [==============================] - 25s 2s/step - loss: 0.5980 - accuracy: 0.6966\n",
      "Epoch 5/50\n",
      "11/11 [==============================] - 23s 2s/step - loss: 0.5961 - accuracy: 0.6842\n",
      "Epoch 6/50\n",
      "11/11 [==============================] - 24s 2s/step - loss: 0.5724 - accuracy: 0.7245\n",
      "Epoch 7/50\n",
      "11/11 [==============================] - 22s 2s/step - loss: 0.5846 - accuracy: 0.6749\n",
      "Epoch 8/50\n",
      "11/11 [==============================] - 24s 2s/step - loss: 0.6410 - accuracy: 0.6378\n",
      "Epoch 9/50\n",
      "11/11 [==============================] - 24s 2s/step - loss: 0.5749 - accuracy: 0.7399\n",
      "Epoch 10/50\n",
      "11/11 [==============================] - 24s 2s/step - loss: 0.5257 - accuracy: 0.7554\n",
      "Epoch 11/50\n",
      "11/11 [==============================] - 24s 2s/step - loss: 0.4978 - accuracy: 0.7833\n",
      "Epoch 12/50\n",
      "11/11 [==============================] - 24s 2s/step - loss: 0.5103 - accuracy: 0.7368\n",
      "Epoch 13/50\n",
      "11/11 [==============================] - 22s 2s/step - loss: 0.5019 - accuracy: 0.7616\n",
      "Epoch 14/50\n",
      "11/11 [==============================] - 23s 2s/step - loss: 0.4770 - accuracy: 0.7616\n",
      "Epoch 15/50\n",
      "11/11 [==============================] - 24s 2s/step - loss: 0.4529 - accuracy: 0.7709\n",
      "Epoch 16/50\n",
      "11/11 [==============================] - 27s 2s/step - loss: 0.4266 - accuracy: 0.7802\n",
      "Epoch 17/50\n",
      "11/11 [==============================] - 22s 2s/step - loss: 0.4940 - accuracy: 0.7399\n",
      "Epoch 18/50\n",
      "11/11 [==============================] - 24s 2s/step - loss: 0.4713 - accuracy: 0.7678\n",
      "Epoch 19/50\n",
      "11/11 [==============================] - 23s 2s/step - loss: 0.4386 - accuracy: 0.7957\n",
      "Epoch 20/50\n",
      "11/11 [==============================] - 23s 2s/step - loss: 0.4200 - accuracy: 0.7864\n",
      "Epoch 21/50\n",
      "11/11 [==============================] - 22s 2s/step - loss: 0.4018 - accuracy: 0.8142\n",
      "Epoch 22/50\n",
      "11/11 [==============================] - 22s 2s/step - loss: 0.3850 - accuracy: 0.8204\n",
      "Epoch 23/50\n",
      "11/11 [==============================] - 22s 2s/step - loss: 0.3873 - accuracy: 0.8204\n",
      "Epoch 24/50\n",
      "11/11 [==============================] - 22s 2s/step - loss: 0.4145 - accuracy: 0.8235\n",
      "Epoch 25/50\n",
      "11/11 [==============================] - 22s 2s/step - loss: 0.3682 - accuracy: 0.8359\n",
      "Epoch 26/50\n",
      "11/11 [==============================] - 23s 2s/step - loss: 0.4012 - accuracy: 0.8173\n",
      "Epoch 27/50\n",
      "11/11 [==============================] - 22s 2s/step - loss: 0.4116 - accuracy: 0.8050\n",
      "Epoch 28/50\n",
      "11/11 [==============================] - 23s 2s/step - loss: 0.3630 - accuracy: 0.8390\n",
      "Epoch 29/50\n",
      "11/11 [==============================] - 23s 2s/step - loss: 0.3531 - accuracy: 0.8669\n",
      "Epoch 30/50\n",
      "11/11 [==============================] - 22s 2s/step - loss: 0.3588 - accuracy: 0.8204\n",
      "Epoch 31/50\n",
      "11/11 [==============================] - 23s 2s/step - loss: 0.3371 - accuracy: 0.8452\n",
      "Epoch 32/50\n",
      "11/11 [==============================] - 22s 2s/step - loss: 0.2962 - accuracy: 0.8545\n",
      "Epoch 33/50\n",
      "11/11 [==============================] - 22s 2s/step - loss: 0.3347 - accuracy: 0.8545\n",
      "Epoch 34/50\n",
      "11/11 [==============================] - 24s 2s/step - loss: 0.2961 - accuracy: 0.8669\n",
      "Epoch 35/50\n",
      "11/11 [==============================] - 22s 2s/step - loss: 0.2723 - accuracy: 0.8793\n",
      "Epoch 36/50\n",
      "11/11 [==============================] - 24s 2s/step - loss: 0.2665 - accuracy: 0.8638\n",
      "Epoch 37/50\n",
      "11/11 [==============================] - 22s 2s/step - loss: 0.2331 - accuracy: 0.9195\n",
      "Epoch 38/50\n",
      "11/11 [==============================] - 24s 2s/step - loss: 0.2547 - accuracy: 0.8885\n",
      "Epoch 39/50\n",
      "11/11 [==============================] - 24s 2s/step - loss: 0.2541 - accuracy: 0.8978\n",
      "Epoch 40/50\n",
      "11/11 [==============================] - 24s 2s/step - loss: 0.2060 - accuracy: 0.9226\n",
      "Epoch 41/50\n",
      "11/11 [==============================] - 25s 2s/step - loss: 0.2032 - accuracy: 0.9164\n",
      "Epoch 42/50\n",
      "11/11 [==============================] - 24s 2s/step - loss: 0.6083 - accuracy: 0.7647\n",
      "Epoch 43/50\n",
      "11/11 [==============================] - 22s 2s/step - loss: 0.3726 - accuracy: 0.8235\n",
      "Epoch 44/50\n",
      "11/11 [==============================] - 23s 2s/step - loss: 0.3336 - accuracy: 0.8762\n",
      "Epoch 45/50\n",
      "11/11 [==============================] - 24s 2s/step - loss: 0.3610 - accuracy: 0.8359\n",
      "Epoch 46/50\n",
      "11/11 [==============================] - 24s 2s/step - loss: 0.2882 - accuracy: 0.8731\n",
      "Epoch 47/50\n",
      "11/11 [==============================] - 23s 2s/step - loss: 0.2374 - accuracy: 0.9133\n",
      "Epoch 48/50\n",
      "11/11 [==============================] - 22s 2s/step - loss: 0.2580 - accuracy: 0.8824\n",
      "Epoch 49/50\n",
      "11/11 [==============================] - 23s 2s/step - loss: 0.2009 - accuracy: 0.9319\n",
      "Epoch 50/50\n",
      "11/11 [==============================] - 22s 2s/step - loss: 0.2177 - accuracy: 0.9071\n"
     ]
    }
   ],
   "source": [
    "# Training model\n",
    "from tensorflow.keras.preprocessing.image import ImageDataGenerator\n",
    "train_datagen = ImageDataGenerator(\n",
    "        rescale=1./255,\n",
    "        shear_range=0.2,\n",
    "        zoom_range=0.2,\n",
    "        horizontal_flip=True)\n",
    "\n",
    "test_datagen = ImageDataGenerator(rescale=1./256)\n",
    "\n",
    "train_generator = train_datagen.flow_from_directory(\n",
    "        'data/training',\n",
    "        target_size=(256, 256),\n",
    "        batch_size=32,\n",
    "        class_mode='binary')\n",
    "\n",
    "validation_generator = test_datagen.flow_from_directory(\n",
    "        'data/testing',\n",
    "        target_size=(256, 256),\n",
    "        batch_size=32,\n",
    "        class_mode='binary')\n",
    "\n",
    "hist = model.fit_generator(\n",
    "               train_generator,\n",
    "               epochs=50,\n",
    "               validation_data=validation_generator,\n",
    "               validation_steps=800)"
   ]
  },
  {
   "cell_type": "code",
   "execution_count": 25,
   "metadata": {},
   "outputs": [
    {
     "data": {
      "text/plain": [
       "{'loss': [0.6482905745506287,\n",
       "  0.6398901343345642,\n",
       "  0.6074520349502563,\n",
       "  0.5980033874511719,\n",
       "  0.5960885882377625,\n",
       "  0.5723985433578491,\n",
       "  0.5845508575439453,\n",
       "  0.6410006284713745,\n",
       "  0.5748577117919922,\n",
       "  0.5257183909416199,\n",
       "  0.4978024959564209,\n",
       "  0.5102664232254028,\n",
       "  0.5018914937973022,\n",
       "  0.4770296514034271,\n",
       "  0.45286861062049866,\n",
       "  0.42661410570144653,\n",
       "  0.49399474263191223,\n",
       "  0.47129562497138977,\n",
       "  0.43859589099884033,\n",
       "  0.41997256875038147,\n",
       "  0.4017685353755951,\n",
       "  0.38496971130371094,\n",
       "  0.38725343346595764,\n",
       "  0.4145006239414215,\n",
       "  0.368201345205307,\n",
       "  0.4011884331703186,\n",
       "  0.4115959703922272,\n",
       "  0.3629828989505768,\n",
       "  0.35308364033699036,\n",
       "  0.358821302652359,\n",
       "  0.3370876610279083,\n",
       "  0.29616501927375793,\n",
       "  0.33471226692199707,\n",
       "  0.2961011826992035,\n",
       "  0.2723477780818939,\n",
       "  0.26649871468544006,\n",
       "  0.23308034241199493,\n",
       "  0.25468894839286804,\n",
       "  0.2541294991970062,\n",
       "  0.2059708535671234,\n",
       "  0.20320290327072144,\n",
       "  0.608345091342926,\n",
       "  0.3725707232952118,\n",
       "  0.33361196517944336,\n",
       "  0.360951691865921,\n",
       "  0.2881888449192047,\n",
       "  0.23742765188217163,\n",
       "  0.25803500413894653,\n",
       "  0.20093423128128052,\n",
       "  0.21766969561576843],\n",
       " 'accuracy': [0.6099071502685547,\n",
       "  0.6346749067306519,\n",
       "  0.7089783549308777,\n",
       "  0.6965944170951843,\n",
       "  0.6842105388641357,\n",
       "  0.7244582176208496,\n",
       "  0.6749225854873657,\n",
       "  0.6377708911895752,\n",
       "  0.7399380803108215,\n",
       "  0.7554179430007935,\n",
       "  0.7832817435264587,\n",
       "  0.7368420958518982,\n",
       "  0.7616099119186401,\n",
       "  0.7616099119186401,\n",
       "  0.7708978056907654,\n",
       "  0.7801857590675354,\n",
       "  0.7399380803108215,\n",
       "  0.7678018808364868,\n",
       "  0.7956656217575073,\n",
       "  0.7863777279853821,\n",
       "  0.8142414689064026,\n",
       "  0.8204334378242493,\n",
       "  0.8204334378242493,\n",
       "  0.8235294222831726,\n",
       "  0.8359133005142212,\n",
       "  0.8173374533653259,\n",
       "  0.8049535751342773,\n",
       "  0.8390092849731445,\n",
       "  0.8668730854988098,\n",
       "  0.8204334378242493,\n",
       "  0.8452012538909912,\n",
       "  0.8544891476631165,\n",
       "  0.8544891476631165,\n",
       "  0.8668730854988098,\n",
       "  0.8792569637298584,\n",
       "  0.8637771010398865,\n",
       "  0.9195046424865723,\n",
       "  0.8885449171066284,\n",
       "  0.8978328108787537,\n",
       "  0.9226006269454956,\n",
       "  0.9164086580276489,\n",
       "  0.7647058963775635,\n",
       "  0.8235294222831726,\n",
       "  0.8761609792709351,\n",
       "  0.8359133005142212,\n",
       "  0.8730649948120117,\n",
       "  0.9133126735687256,\n",
       "  0.8823529481887817,\n",
       "  0.9318885207176208,\n",
       "  0.9071207642555237]}"
      ]
     },
     "execution_count": 25,
     "metadata": {},
     "output_type": "execute_result"
    }
   ],
   "source": [
    "# checking history \n",
    "hist.history"
   ]
  },
  {
   "cell_type": "markdown",
   "metadata": {},
   "source": [
    "### Step 3-Checking performance "
   ]
  },
  {
   "cell_type": "code",
   "execution_count": 37,
   "metadata": {},
   "outputs": [
    {
     "data": {
      "image/png": "[encoded data removed]",
      "text/plain": [
       "<Figure size 432x288 with 1 Axes>"
      ]
     },
     "metadata": {
      "needs_background": "light"
     },
     "output_type": "display_data"
    }
   ],
   "source": [
    "# ploting performance\n",
    "from matplotlib import pyplot as plt\n",
    "fig = plt.figure()\n",
    "plt.plot(hist.history['loss'],color='teal',label='loss')\n",
    "plt.plot(hist.history['accuracy'],color='orange',label='accuracy')\n",
    "plt.show()"
   ]
  },
  {
   "cell_type": "markdown",
   "metadata": {},
   "source": [
    "### Step 4-Prediction"
   ]
  },
  {
   "cell_type": "code",
   "execution_count": 26,
   "metadata": {},
   "outputs": [],
   "source": [
    "import numpy as np\n",
    "from tensorflow.keras.preprocessing import image"
   ]
  },
  {
   "cell_type": "code",
   "execution_count": 38,
   "metadata": {},
   "outputs": [],
   "source": [
    "test_image = image.load_img('data/testing/elon/0x0.jpg') # this is elon pictore\n",
    "test_image = image.img_to_array(test_image)"
   ]
  },
  {
   "cell_type": "code",
   "execution_count": 32,
   "metadata": {},
   "outputs": [],
   "source": [
    "import cv2\n",
    "test_image = cv2.resize(test_image,(256,256))"
   ]
  },
  {
   "cell_type": "code",
   "execution_count": 33,
   "metadata": {},
   "outputs": [
    {
     "name": "stdout",
     "output_type": "stream",
     "text": [
      "elon\n"
     ]
    }
   ],
   "source": [
    "test_image = np.expand_dims(test_image,axis=0)\n",
    "pred = model.predict(test_image)\n",
    "if pred[0][0] == 1:\n",
    "    print('elon')\n",
    "else:\n",
    "    print('jef')"
   ]
  }
 ],
 "metadata": {
  "interpreter": {
   "hash": "674ee1f1d3ac75c299f5d6dc1161960f02fafc1831377fa93ab9d0e0e852eae6"
  },
  "kernelspec": {
   "display_name": "Python 3.10.2 64-bit",
   "language": "python",
   "name": "python3"
  },
  "language_info": {
   "codemirror_mode": {
    "name": "ipython",
    "version": 3
   },
   "file_extension": ".py",
   "mimetype": "text/x-python",
   "name": "python",
   "nbconvert_exporter": "python",
   "pygments_lexer": "ipython3",
   "version": "3.10.2"
  },
  "orig_nbformat": 4
 },
 "nbformat": 4,
 "nbformat_minor": 2
}
