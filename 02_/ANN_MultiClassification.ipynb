{
  "nbformat": 4,
  "nbformat_minor": 0,
  "metadata": {
    "colab": {
      "name": "ANN_MultiClassification.ipynb",
      "provenance": [],
      "collapsed_sections": []
    },
    "kernelspec": {
      "name": "python3",
      "display_name": "Python 3"
    },
    "language_info": {
      "name": "python"
    }
  },
  "cells": [
    {
      "cell_type": "markdown",
      "source": [
        "# Artificial Neural Network\n",
        "## Multi Classification"
      ],
      "metadata": {
        "id": "FjuaGWmsfQY8"
      }
    },
    {
      "cell_type": "code",
      "execution_count": 23,
      "metadata": {
        "id": "BU7w4zf_fHCD"
      },
      "outputs": [],
      "source": [
        "#importing dependencies\n",
        "import pandas as pd \n",
        "import numpy as np\n",
        "from sklearn.datasets import load_iris"
      ]
    },
    {
      "cell_type": "code",
      "source": [
        "#loading dataset into dataframe\n",
        "df = load_iris()"
      ],
      "metadata": {
        "id": "KDGvR3Gfs-q9"
      },
      "execution_count": 24,
      "outputs": []
    },
    {
      "cell_type": "code",
      "source": [
        "#spliting data \n",
        "x = df.data\n",
        "y = df.target"
      ],
      "metadata": {
        "id": "2B8MxTYJtZML"
      },
      "execution_count": 25,
      "outputs": []
    },
    {
      "cell_type": "code",
      "source": [
        "print(x.shape)\n",
        "print(y.shape)"
      ],
      "metadata": {
        "colab": {
          "base_uri": "https://localhost:8080/"
        },
        "id": "oKMlWftjuGWT",
        "outputId": "51b0dcbb-adc3-49ca-e21d-24585beed1da"
      },
      "execution_count": 26,
      "outputs": [
        {
          "output_type": "stream",
          "name": "stdout",
          "text": [
            "(150, 4)\n",
            "(150,)\n"
          ]
        }
      ]
    },
    {
      "cell_type": "code",
      "source": [
        "#encoding label\n",
        "from sklearn.preprocessing import LabelEncoder\n",
        "label = LabelEncoder()\n",
        "y1 = label.fit_transform(y)\n",
        "y = pd.get_dummies(y1).values"
      ],
      "metadata": {
        "id": "gpe-Qzr0tkV_"
      },
      "execution_count": 45,
      "outputs": []
    },
    {
      "cell_type": "code",
      "source": [
        "#spliting data into training and testing\n",
        "from sklearn.model_selection import train_test_split\n",
        "x_train,x_test,y_train,y_test = train_test_split(x,y,test_size=0.2)"
      ],
      "metadata": {
        "id": "JGi5-_sjt25G"
      },
      "execution_count": 46,
      "outputs": []
    },
    {
      "cell_type": "code",
      "source": [
        "#scaling data\n",
        "from sklearn.preprocessing import StandardScaler\n",
        "sc = StandardScaler()\n",
        "x_train = sc.fit_transform(x_train)\n",
        "x_test = sc.fit_transform(x_test)"
      ],
      "metadata": {
        "id": "kbja0IdWt5iQ"
      },
      "execution_count": 47,
      "outputs": []
    },
    {
      "cell_type": "code",
      "source": [
        "print(x_train.shape)\n",
        "print(y_train.shape)"
      ],
      "metadata": {
        "colab": {
          "base_uri": "https://localhost:8080/"
        },
        "id": "HpZjIJmDxLuh",
        "outputId": "fd33c085-994d-475a-cb8c-32cc96e24906"
      },
      "execution_count": 48,
      "outputs": [
        {
          "output_type": "stream",
          "name": "stdout",
          "text": [
            "(120, 4)\n",
            "(120, 3)\n"
          ]
        }
      ]
    },
    {
      "cell_type": "code",
      "source": [
        "#import model platform \n",
        "import keras\n",
        "from keras.models import sequential\n",
        "from keras.layers import Dense\n",
        "from keras.layers import Flatten"
      ],
      "metadata": {
        "id": "vrAhLxuet89S"
      },
      "execution_count": 49,
      "outputs": []
    },
    {
      "cell_type": "code",
      "source": [
        "from keras.engine.sequential import Sequential\n",
        "#training model\n",
        "classifier = Sequential()\n",
        "#input layer\n",
        "classifier.add(Flatten(input_shape=(4,)))\n",
        "#adding first hidden layer and input\n",
        "classifier.add(Dense(4,activation='relu'))\n",
        "\n",
        "#adding the output layer\n",
        "classifier.add(Dense(3,activation='softmax'))"
      ],
      "metadata": {
        "id": "0GKtbvivuAOm"
      },
      "execution_count": 50,
      "outputs": []
    },
    {
      "cell_type": "code",
      "source": [
        "classifier.compile(optimizer='adam',loss='categorical_crossentropy',metrics=['accuracy'])"
      ],
      "metadata": {
        "id": "yM-ZuIUbu2Ug"
      },
      "execution_count": 54,
      "outputs": []
    },
    {
      "cell_type": "code",
      "source": [
        "print(x_train.shape)\n",
        "print(y_train.shape)"
      ],
      "metadata": {
        "colab": {
          "base_uri": "https://localhost:8080/"
        },
        "id": "wl_BZWW3xyb-",
        "outputId": "a6f455f6-fe2f-4558-ab5f-03f20820f255"
      },
      "execution_count": 52,
      "outputs": [
        {
          "output_type": "stream",
          "name": "stdout",
          "text": [
            "(120, 4)\n",
            "(120, 3)\n"
          ]
        }
      ]
    },
    {
      "cell_type": "code",
      "source": [
        "classifier.fit(x=x_train,y=y_train,batch_size=10,epochs=10)"
      ],
      "metadata": {
        "colab": {
          "base_uri": "https://localhost:8080/"
        },
        "id": "cooDsYacvC_Y",
        "outputId": "fcbcc20a-bbb7-402b-d303-0875b294c4a1"
      },
      "execution_count": 55,
      "outputs": [
        {
          "output_type": "stream",
          "name": "stdout",
          "text": [
            "Epoch 1/10\n",
            "12/12 [==============================] - 0s 2ms/step - loss: 1.5069 - accuracy: 0.4750\n",
            "Epoch 2/10\n",
            "12/12 [==============================] - 0s 2ms/step - loss: 1.4450 - accuracy: 0.3500\n",
            "Epoch 3/10\n",
            "12/12 [==============================] - 0s 2ms/step - loss: 1.3832 - accuracy: 0.3417\n",
            "Epoch 4/10\n",
            "12/12 [==============================] - 0s 2ms/step - loss: 1.3362 - accuracy: 0.3250\n",
            "Epoch 5/10\n",
            "12/12 [==============================] - 0s 2ms/step - loss: 1.2929 - accuracy: 0.3167\n",
            "Epoch 6/10\n",
            "12/12 [==============================] - 0s 2ms/step - loss: 1.2541 - accuracy: 0.3333\n",
            "Epoch 7/10\n",
            "12/12 [==============================] - 0s 2ms/step - loss: 1.2217 - accuracy: 0.3250\n",
            "Epoch 8/10\n",
            "12/12 [==============================] - 0s 2ms/step - loss: 1.1911 - accuracy: 0.3250\n",
            "Epoch 9/10\n",
            "12/12 [==============================] - 0s 2ms/step - loss: 1.1633 - accuracy: 0.3167\n",
            "Epoch 10/10\n",
            "12/12 [==============================] - 0s 2ms/step - loss: 1.1357 - accuracy: 0.3167\n"
          ]
        },
        {
          "output_type": "execute_result",
          "data": {
            "text/plain": [
              "<keras.callbacks.History at 0x7f07e3e73c90>"
            ]
          },
          "metadata": {},
          "execution_count": 55
        }
      ]
    },
    {
      "cell_type": "code",
      "source": [
        "y_pred = classifier.predict(x_test)\n",
        "y_test_class = np.argmax(y_test,axis=1)\n",
        "y_pred_class = np.argmax(y_pred,axis=1)"
      ],
      "metadata": {
        "id": "jZoPry5B21pq"
      },
      "execution_count": 58,
      "outputs": []
    },
    {
      "cell_type": "code",
      "source": [
        "from sklearn.metrics import confusion_matrix,classification_report\n",
        "print(classification_report(y_test_class,y_pred_class))\n",
        "print(confusion_matrix(y_test_class,y_pred_class))"
      ],
      "metadata": {
        "colab": {
          "base_uri": "https://localhost:8080/"
        },
        "id": "_Ya6tGFyYZkB",
        "outputId": "cab77d1e-3e4a-45d2-cce9-a5dbecea6642"
      },
      "execution_count": 60,
      "outputs": [
        {
          "output_type": "stream",
          "name": "stdout",
          "text": [
            "              precision    recall  f1-score   support\n",
            "\n",
            "           0       0.00      0.00      0.00         9\n",
            "           1       0.18      0.60      0.27         5\n",
            "           2       0.75      0.38      0.50        16\n",
            "\n",
            "    accuracy                           0.30        30\n",
            "   macro avg       0.31      0.33      0.26        30\n",
            "weighted avg       0.43      0.30      0.31        30\n",
            "\n",
            "[[0 9 0]\n",
            " [0 3 2]\n",
            " [5 5 6]]\n"
          ]
        }
      ]
    },
    {
      "cell_type": "markdown",
      "source": [
        "### Tradeoff and incredible error"
      ],
      "metadata": {
        "id": "UndX0HJ-aScc"
      }
    },
    {
      "cell_type": "code",
      "source": [
        "# importing libraries\n",
        "from keras.wrappers.scikit_learn import KerasClassifier\n",
        "from sklearn.model_selection import cross_val_score\n",
        "from keras.models import Sequential\n",
        "from keras.layers import Dense"
      ],
      "metadata": {
        "id": "ZX4m_OIkaTgL"
      },
      "execution_count": 61,
      "outputs": []
    },
    {
      "cell_type": "code",
      "source": [
        "# defining function\n",
        "def built_classifier():\n",
        "  classifier = Sequential()\n",
        "  classifier.add(Dense(16,activation='relu',input_shape=(4,)))\n",
        "  classifier.add(Dense(16,activation='relu'))\n",
        "  classifier.add(Dense(1,activation='linear'))\n",
        "  classifier.compile(optimizer='adam',loss='binary_crossentropy',metrics=['accuracy'])\n",
        "  return classifier"
      ],
      "metadata": {
        "id": "rutD7WSeaXXu"
      },
      "execution_count": 64,
      "outputs": []
    },
    {
      "cell_type": "code",
      "source": [
        "classifier = KerasClassifier(build_fn=built_classifier,batch_size=100,epochs=10)\n",
        "accuracy = cross_val_score(estimator=classifier,X=x_train,y=y_train,cv=10,n_jobs=-1)\n",
        "accuracy"
      ],
      "metadata": {
        "colab": {
          "base_uri": "https://localhost:8080/"
        },
        "id": "t4vTmD7Yabku",
        "outputId": "3dff7104-8d85-494a-bd85-d0f55e17a473"
      },
      "execution_count": 65,
      "outputs": [
        {
          "output_type": "stream",
          "name": "stderr",
          "text": [
            "/usr/local/lib/python3.7/dist-packages/ipykernel_launcher.py:1: DeprecationWarning: KerasClassifier is deprecated, use Sci-Keras (https://github.com/adriangb/scikeras) instead.\n",
            "  \"\"\"Entry point for launching an IPython kernel.\n"
          ]
        },
        {
          "output_type": "execute_result",
          "data": {
            "text/plain": [
              "array([0.66666669, 0.6388889 , 0.6388889 , 0.66666669, 0.66666669,\n",
              "       0.66666669, 0.66666669, 0.6388889 , 0.6388889 , 0.66666669])"
            ]
          },
          "metadata": {},
          "execution_count": 65
        }
      ]
    },
    {
      "cell_type": "code",
      "source": [
        "accuracy.mean()"
      ],
      "metadata": {
        "colab": {
          "base_uri": "https://localhost:8080/"
        },
        "id": "h3508108a2gx",
        "outputId": "9ef37f9d-6667-4100-9478-9469ac9228ff"
      },
      "execution_count": 66,
      "outputs": [
        {
          "output_type": "execute_result",
          "data": {
            "text/plain": [
              "0.6555555701255799"
            ]
          },
          "metadata": {},
          "execution_count": 66
        }
      ]
    },
    {
      "cell_type": "code",
      "source": [
        "accuracy.std()"
      ],
      "metadata": {
        "colab": {
          "base_uri": "https://localhost:8080/"
        },
        "id": "nENYJ4K5a52m",
        "outputId": "e0fe9898-d758-4e60-c874-fb840811edcd"
      },
      "execution_count": 67,
      "outputs": [
        {
          "output_type": "execute_result",
          "data": {
            "text/plain": [
              "0.013608282837727255"
            ]
          },
          "metadata": {},
          "execution_count": 67
        }
      ]
    }
  ]
}