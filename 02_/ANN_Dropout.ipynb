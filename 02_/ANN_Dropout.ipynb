{
  "cells": [
    {
      "cell_type": "markdown",
      "metadata": {
        "id": "C-oQYBrgqTHC"
      },
      "source": [
        "# Artificial Neural Network "
      ]
    },
    {
      "cell_type": "code",
      "execution_count": 1,
      "metadata": {
        "id": "lrqNTuEjWH1m"
      },
      "outputs": [],
      "source": [
        "#importing dependencies\n",
        "import pandas as pd\n",
        "import numpy as np\n"
      ]
    },
    {
      "cell_type": "code",
      "execution_count": null,
      "metadata": {
        "id": "q28NgOO8rAah"
      },
      "outputs": [],
      "source": [
        "# loading dataset\n",
        "df = pd.read_csv('/content/breast-cancer.csv')\n",
        "df.head()"
      ]
    },
    {
      "cell_type": "code",
      "execution_count": 3,
      "metadata": {
        "id": "7URE7ej5shev"
      },
      "outputs": [],
      "source": [
        "#spliting data \n",
        "x = df.drop(['diagnosis'],axis=1)\n",
        "y = df['diagnosis']"
      ]
    },
    {
      "cell_type": "code",
      "execution_count": 4,
      "metadata": {
        "id": "TX3_IUgDskRJ"
      },
      "outputs": [],
      "source": [
        "#encoding label\n",
        "from sklearn.preprocessing import LabelEncoder\n",
        "label = LabelEncoder()\n",
        "y = label.fit_transform(y)"
      ]
    },
    {
      "cell_type": "code",
      "execution_count": 34,
      "metadata": {
        "id": "1xe9pntXsn5j"
      },
      "outputs": [],
      "source": [
        "#spliting data into training and testing\n",
        "from sklearn.model_selection import train_test_split\n",
        "x_train,x_test,y_train,y_test = train_test_split(x,y,test_size=0.2,random_state=3)"
      ]
    },
    {
      "cell_type": "code",
      "execution_count": 35,
      "metadata": {
        "id": "MrEbDCNzsrsu"
      },
      "outputs": [],
      "source": [
        "#scaling data\n",
        "from sklearn.preprocessing import StandardScaler\n",
        "sc = StandardScaler()\n",
        "x_train = sc.fit_transform(x_train)\n",
        "x_test = sc.fit_transform(x_test)"
      ]
    },
    {
      "cell_type": "code",
      "execution_count": 36,
      "metadata": {
        "colab": {
          "base_uri": "https://localhost:8080/"
        },
        "id": "caiXrJ2DdxGf",
        "outputId": "727793c6-d7a4-4eb4-ad6e-d62ae65a4a60"
      },
      "outputs": [
        {
          "output_type": "execute_result",
          "data": {
            "text/plain": [
              "(455, 31)"
            ]
          },
          "metadata": {},
          "execution_count": 36
        }
      ],
      "source": [
        "x_train.shape"
      ]
    },
    {
      "cell_type": "code",
      "execution_count": 37,
      "metadata": {
        "id": "pOejWCj5rYQQ"
      },
      "outputs": [],
      "source": [
        "#import model platform \n",
        "import keras\n",
        "from keras.models import sequential\n",
        "from keras.layers import Dense, Dropout"
      ]
    },
    {
      "cell_type": "code",
      "execution_count": 38,
      "metadata": {
        "id": "qCUMuK-ls0WI"
      },
      "outputs": [],
      "source": [
        "from keras.engine.sequential import Sequential\n",
        "#training model\n",
        "classifier = Sequential()\n",
        "\n",
        "#adding first hidden layer and input\n",
        "classifier.add(Dense(16,activation='relu',input_dim=31))\n",
        "\n",
        "classifier.add(Dropout(0.3))\n",
        "#adding second hidden layer\n",
        "classifier.add(Dense(16,activation='relu'))\n",
        "\n",
        "classifier.add(Dropout(0.3))\n",
        "#adding the output layer\n",
        "classifier.add(Dense(1,activation='linear'))"
      ]
    },
    {
      "cell_type": "code",
      "execution_count": 39,
      "metadata": {
        "id": "xQZuZKXOwZ31"
      },
      "outputs": [],
      "source": [
        "classifier.compile(optimizer='adam',loss='binary_crossentropy',metrics=['accuracy'])"
      ]
    },
    {
      "cell_type": "code",
      "execution_count": 40,
      "metadata": {
        "colab": {
          "base_uri": "https://localhost:8080/"
        },
        "id": "O9gi_JA2w6dx",
        "outputId": "274ba377-e654-4577-c3a2-e5a81efbb221"
      },
      "outputs": [
        {
          "output_type": "stream",
          "name": "stdout",
          "text": [
            "Epoch 1/40\n",
            "4/4 [==============================] - 1s 58ms/step - loss: 4.5045 - accuracy: 0.6291 - val_loss: 5.0324 - val_accuracy: 0.6484\n",
            "Epoch 2/40\n",
            "4/4 [==============================] - 0s 9ms/step - loss: 4.5071 - accuracy: 0.6401 - val_loss: 4.8788 - val_accuracy: 0.6484\n",
            "Epoch 3/40\n",
            "4/4 [==============================] - 0s 11ms/step - loss: 4.3053 - accuracy: 0.6484 - val_loss: 4.7069 - val_accuracy: 0.6703\n",
            "Epoch 4/40\n",
            "4/4 [==============================] - 0s 10ms/step - loss: 4.3576 - accuracy: 0.6538 - val_loss: 4.4284 - val_accuracy: 0.6703\n",
            "Epoch 5/40\n",
            "4/4 [==============================] - 0s 9ms/step - loss: 3.6839 - accuracy: 0.6923 - val_loss: 4.2411 - val_accuracy: 0.6703\n",
            "Epoch 6/40\n",
            "4/4 [==============================] - 0s 9ms/step - loss: 3.8121 - accuracy: 0.6951 - val_loss: 4.0626 - val_accuracy: 0.6703\n",
            "Epoch 7/40\n",
            "4/4 [==============================] - 0s 9ms/step - loss: 2.8914 - accuracy: 0.7033 - val_loss: 3.7426 - val_accuracy: 0.6923\n",
            "Epoch 8/40\n",
            "4/4 [==============================] - 0s 9ms/step - loss: 3.2583 - accuracy: 0.7005 - val_loss: 3.6967 - val_accuracy: 0.7033\n",
            "Epoch 9/40\n",
            "4/4 [==============================] - 0s 10ms/step - loss: 2.7910 - accuracy: 0.7225 - val_loss: 3.2675 - val_accuracy: 0.7143\n",
            "Epoch 10/40\n",
            "4/4 [==============================] - 0s 9ms/step - loss: 3.3558 - accuracy: 0.7033 - val_loss: 3.1994 - val_accuracy: 0.7253\n",
            "Epoch 11/40\n",
            "4/4 [==============================] - 0s 9ms/step - loss: 2.4273 - accuracy: 0.7418 - val_loss: 2.9415 - val_accuracy: 0.7253\n",
            "Epoch 12/40\n",
            "4/4 [==============================] - 0s 11ms/step - loss: 2.9185 - accuracy: 0.7390 - val_loss: 2.4416 - val_accuracy: 0.7473\n",
            "Epoch 13/40\n",
            "4/4 [==============================] - 0s 11ms/step - loss: 2.4505 - accuracy: 0.7555 - val_loss: 2.1403 - val_accuracy: 0.7582\n",
            "Epoch 14/40\n",
            "4/4 [==============================] - 0s 10ms/step - loss: 2.2942 - accuracy: 0.7665 - val_loss: 2.0743 - val_accuracy: 0.7802\n",
            "Epoch 15/40\n",
            "4/4 [==============================] - 0s 10ms/step - loss: 1.4978 - accuracy: 0.8049 - val_loss: 2.0426 - val_accuracy: 0.7802\n",
            "Epoch 16/40\n",
            "4/4 [==============================] - 0s 13ms/step - loss: 2.0342 - accuracy: 0.7885 - val_loss: 1.9176 - val_accuracy: 0.7802\n",
            "Epoch 17/40\n",
            "4/4 [==============================] - 0s 10ms/step - loss: 1.7473 - accuracy: 0.7830 - val_loss: 1.8829 - val_accuracy: 0.7802\n",
            "Epoch 18/40\n",
            "4/4 [==============================] - 0s 8ms/step - loss: 1.3107 - accuracy: 0.8297 - val_loss: 1.7601 - val_accuracy: 0.8022\n",
            "Epoch 19/40\n",
            "4/4 [==============================] - 0s 9ms/step - loss: 1.6918 - accuracy: 0.8104 - val_loss: 1.5994 - val_accuracy: 0.8132\n",
            "Epoch 20/40\n",
            "4/4 [==============================] - 0s 9ms/step - loss: 1.4872 - accuracy: 0.8352 - val_loss: 1.5799 - val_accuracy: 0.8132\n",
            "Epoch 21/40\n",
            "4/4 [==============================] - 0s 8ms/step - loss: 1.5841 - accuracy: 0.8132 - val_loss: 1.5726 - val_accuracy: 0.8022\n",
            "Epoch 22/40\n",
            "4/4 [==============================] - 0s 9ms/step - loss: 1.1363 - accuracy: 0.8434 - val_loss: 1.4419 - val_accuracy: 0.8242\n",
            "Epoch 23/40\n",
            "4/4 [==============================] - 0s 9ms/step - loss: 1.4108 - accuracy: 0.8297 - val_loss: 1.2874 - val_accuracy: 0.8242\n",
            "Epoch 24/40\n",
            "4/4 [==============================] - 0s 11ms/step - loss: 1.2590 - accuracy: 0.8379 - val_loss: 1.2592 - val_accuracy: 0.8242\n",
            "Epoch 25/40\n",
            "4/4 [==============================] - 0s 9ms/step - loss: 1.4483 - accuracy: 0.8379 - val_loss: 1.1141 - val_accuracy: 0.8242\n",
            "Epoch 26/40\n",
            "4/4 [==============================] - 0s 9ms/step - loss: 1.3518 - accuracy: 0.8571 - val_loss: 1.1077 - val_accuracy: 0.8242\n",
            "Epoch 27/40\n",
            "4/4 [==============================] - 0s 11ms/step - loss: 1.0208 - accuracy: 0.8764 - val_loss: 1.2028 - val_accuracy: 0.8242\n",
            "Epoch 28/40\n",
            "4/4 [==============================] - 0s 11ms/step - loss: 1.4077 - accuracy: 0.8544 - val_loss: 1.1916 - val_accuracy: 0.8352\n",
            "Epoch 29/40\n",
            "4/4 [==============================] - 0s 10ms/step - loss: 1.0318 - accuracy: 0.8929 - val_loss: 0.9153 - val_accuracy: 0.8352\n",
            "Epoch 30/40\n",
            "4/4 [==============================] - 0s 9ms/step - loss: 1.1382 - accuracy: 0.8681 - val_loss: 0.8941 - val_accuracy: 0.8462\n",
            "Epoch 31/40\n",
            "4/4 [==============================] - 0s 10ms/step - loss: 1.2033 - accuracy: 0.8599 - val_loss: 0.7412 - val_accuracy: 0.8571\n",
            "Epoch 32/40\n",
            "4/4 [==============================] - 0s 9ms/step - loss: 1.1870 - accuracy: 0.8599 - val_loss: 0.7193 - val_accuracy: 0.8571\n",
            "Epoch 33/40\n",
            "4/4 [==============================] - 0s 11ms/step - loss: 1.1405 - accuracy: 0.8626 - val_loss: 0.7072 - val_accuracy: 0.8681\n",
            "Epoch 34/40\n",
            "4/4 [==============================] - 0s 11ms/step - loss: 1.1777 - accuracy: 0.8709 - val_loss: 0.6972 - val_accuracy: 0.8681\n",
            "Epoch 35/40\n",
            "4/4 [==============================] - 0s 11ms/step - loss: 0.9489 - accuracy: 0.8846 - val_loss: 0.4260 - val_accuracy: 0.8681\n",
            "Epoch 36/40\n",
            "4/4 [==============================] - 0s 9ms/step - loss: 1.1070 - accuracy: 0.8599 - val_loss: 0.4033 - val_accuracy: 0.8681\n",
            "Epoch 37/40\n",
            "4/4 [==============================] - 0s 9ms/step - loss: 1.0335 - accuracy: 0.8956 - val_loss: 0.3933 - val_accuracy: 0.8681\n",
            "Epoch 38/40\n",
            "4/4 [==============================] - 0s 11ms/step - loss: 0.9765 - accuracy: 0.8956 - val_loss: 0.3870 - val_accuracy: 0.8681\n",
            "Epoch 39/40\n",
            "4/4 [==============================] - 0s 9ms/step - loss: 0.7042 - accuracy: 0.8929 - val_loss: 0.3828 - val_accuracy: 0.8791\n",
            "Epoch 40/40\n",
            "4/4 [==============================] - 0s 9ms/step - loss: 0.9478 - accuracy: 0.8846 - val_loss: 0.3838 - val_accuracy: 0.8791\n"
          ]
        },
        {
          "output_type": "execute_result",
          "data": {
            "text/plain": [
              "<keras.callbacks.History at 0x7f455352c6d0>"
            ]
          },
          "metadata": {},
          "execution_count": 40
        }
      ],
      "source": [
        "classifier.fit(x=x_train,y=y_train,batch_size=120,epochs=40,validation_split=0.2)"
      ]
    },
    {
      "cell_type": "code",
      "execution_count": 41,
      "metadata": {
        "id": "CztpCLJFgaKT"
      },
      "outputs": [],
      "source": [
        "y_pred = classifier.predict(x_test)\n",
        "y_pred =(y_pred > 0.5)"
      ]
    },
    {
      "cell_type": "code",
      "execution_count": 42,
      "metadata": {
        "colab": {
          "base_uri": "https://localhost:8080/"
        },
        "id": "F1--4xKvhAAn",
        "outputId": "3cf23b5c-cc2f-46d4-adce-e1e161abc4b8"
      },
      "outputs": [
        {
          "output_type": "execute_result",
          "data": {
            "text/plain": [
              "array([[71,  3],\n",
              "       [ 3, 37]])"
            ]
          },
          "metadata": {},
          "execution_count": 42
        }
      ],
      "source": [
        "from sklearn.metrics import confusion_matrix\n",
        "cm = confusion_matrix(y_test,y_pred)\n",
        "cm"
      ]
    },
    {
      "cell_type": "code",
      "execution_count": 43,
      "metadata": {
        "colab": {
          "base_uri": "https://localhost:8080/",
          "height": 283
        },
        "id": "yP306SKnhViN",
        "outputId": "e13d9581-c6fe-481b-f172-0c4d3af1f2ea"
      },
      "outputs": [
        {
          "output_type": "execute_result",
          "data": {
            "text/plain": [
              "<matplotlib.axes._subplots.AxesSubplot at 0x7f45495518d0>"
            ]
          },
          "metadata": {},
          "execution_count": 43
        },
        {
          "output_type": "display_data",
          "data": {
            "image/png": "[encoded data removed]",
            "text/plain": [
              "<Figure size 432x288 with 2 Axes>"
            ]
          },
          "metadata": {
            "needs_background": "light"
          }
        }
      ],
      "source": [
        "import seaborn as sns\n",
        "sns.heatmap(cm,annot=True)\n"
      ]
    }
  ],
  "metadata": {
    "colab": {
      "collapsed_sections": [],
      "name": "ANN_Dropout.ipynb",
      "provenance": []
    },
    "kernelspec": {
      "display_name": "Python 3",
      "name": "python3"
    },
    "language_info": {
      "name": "python"
    }
  },
  "nbformat": 4,
  "nbformat_minor": 0
}